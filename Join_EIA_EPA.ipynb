{
 "cells": [
  {
   "cell_type": "markdown",
   "metadata": {},
   "source": [
    "# Code to Join together EIA, EPA Data and Generate Emissions Rates"
   ]
  },
  {
   "cell_type": "code",
   "execution_count": 245,
   "metadata": {},
   "outputs": [],
   "source": [
    "import pandas as pd\n",
    "import matplotlib.pyplot as plt\n",
    "import os\n",
    "import numpy as np\n",
    "\n",
    "os.chdir('C:/Users/lbeatty/Documents/Lauren_MIP_Contribution/')"
   ]
  },
  {
   "cell_type": "code",
   "execution_count": 246,
   "metadata": {},
   "outputs": [],
   "source": [
    "####################\n",
    "# Read in Data #####\n",
    "####################\n",
    "\n",
    "crosswalk = pd.read_csv(\"Data/epa_eia_crosswalk.csv\")\n",
    "emissions = pd.read_csv(\"Data/CAMD/facilities_emissions.csv\")\n",
    "#only want year 2020\n",
    "emissions = emissions.query('year==2020')\n",
    "\n",
    "# PM25\n",
    "pm25 = pd.read_excel(\"Data/eGRID2020 DRAFT PM Emissions.xlsx\", sheet_name=\"2020 PM Unit-level Data\", skiprows=1)\n",
    "\n",
    "# EIA 923 For Annual Generation\n",
    "eia923 = pd.read_excel(\"Data/eia923/EIA923_Schedules_2_3_4_5_M_12_2020_Final_Revision.xlsx\", sheet_name='Page 4 Generator Data', skiprows=5)\n",
    "\n",
    "# EIA 860 for Generator Info\n",
    "eia860 = pd.read_excel(\"Data/eia860/3_1_Generator_Y2020.xlsx\", skiprows=1)"
   ]
  },
  {
   "cell_type": "code",
   "execution_count": 247,
   "metadata": {},
   "outputs": [
    {
     "name": "stdout",
     "output_type": "stream",
     "text": [
      "EIA_PLANT_ID          float64\n",
      "EIA_GENERATOR_ID       object\n",
      "Capacity              float64\n",
      "RetirementYear         object\n",
      "RetirementMonth        object\n",
      "SynchronizedToGrid     object\n",
      "dtype: object\n",
      "EIA_PLANT_ID          int64\n",
      "EIA_GENERATOR_ID     object\n",
      "EIA_PLANT_NAME       object\n",
      "EIA_STATE            object\n",
      "NET_GEN             float64\n",
      "dtype: object\n",
      "facilityId      int32\n",
      "unitId         object\n",
      "pm25          float64\n",
      "dtype: object\n",
      "stateCode             object\n",
      "facilityName          object\n",
      "facilityId             int32\n",
      "unitId                object\n",
      "associatedStacks      object\n",
      "year                   int64\n",
      "countOpTime            int64\n",
      "sumOpTime            float64\n",
      "grossLoad            float64\n",
      "steamLoad            float64\n",
      "so2Mass              float64\n",
      "so2Rate              float64\n",
      "co2Mass              float64\n",
      "co2Rate              float64\n",
      "noxMass              float64\n",
      "noxRate              float64\n",
      "heatInput            float64\n",
      "primaryFuelInfo       object\n",
      "secondaryFuelInfo     object\n",
      "unitType              object\n",
      "so2ControlInfo        object\n",
      "noxControlInfo        object\n",
      "pmControlInfo         object\n",
      "hgControlInfo         object\n",
      "programCodeInfo       object\n",
      "dtype: object\n",
      "CAMD_PLANT_ID          int64\n",
      "CAMD_UNIT_ID          object\n",
      "CAMD_GENERATOR_ID     object\n",
      "EIA_PLANT_ID         float64\n",
      "EIA_GENERATOR_ID      object\n",
      "EIA_UNIT_TYPE         object\n",
      "dtype: object\n"
     ]
    }
   ],
   "source": [
    "################\n",
    "## Format Data #\n",
    "################\n",
    "pm25['UNITID'] = pm25['UNITID'].astype(str)\n",
    "pm25 = pm25.groupby(['ORISPL', 'UNITID']).agg({'PM25AN': 'sum'}).reset_index()\n",
    "pm25.columns = ['facilityId', 'unitId', 'pm25']\n",
    "pm25['unitId']=pm25['unitId'].astype(str)\n",
    "pm25['facilityId']=pm25['facilityId'].astype(int)\n",
    "\n",
    "\n",
    "emissions['unitId']=emissions['unitId'].astype(str)\n",
    "emissions['facilityId']=emissions['facilityId'].astype(int)\n",
    "\n",
    "crosswalk = crosswalk[['CAMD_PLANT_ID', 'CAMD_UNIT_ID', 'CAMD_GENERATOR_ID', 'EIA_PLANT_ID', 'EIA_GENERATOR_ID', 'EIA_UNIT_TYPE']]\n",
    "crosswalk['EIA_GENERATOR_ID'] = crosswalk['EIA_GENERATOR_ID'].astype(str)\n",
    "\n",
    "eia923 = eia923[['Plant Id', 'Generator Id', 'Plant Name', 'Plant State', 'Net Generation\\nYear To Date']]\n",
    "eia923.columns = ['EIA_PLANT_ID', 'EIA_GENERATOR_ID', 'EIA_PLANT_NAME', 'EIA_STATE', 'NET_GEN']\n",
    "eia923['EIA_GENERATOR_ID']=eia923['EIA_GENERATOR_ID'].astype(str)\n",
    "\n",
    "eia860 = eia860[['Plant Code', 'Generator ID', 'Nameplate Capacity (MW)', 'Planned Retirement Year', 'Planned Retirement Month', 'Synchronized to Transmission Grid']]\n",
    "eia860.columns = ['EIA_PLANT_ID', 'EIA_GENERATOR_ID', 'Capacity', 'RetirementYear', 'RetirementMonth', 'SynchronizedToGrid']\n",
    "eia860['EIA_GENERATOR_ID']=eia860['EIA_GENERATOR_ID'].astype(str)\n",
    "\n",
    "print(eia860.dtypes)\n",
    "print(eia923.dtypes)\n",
    "print(pm25.dtypes)\n",
    "print(emissions.dtypes)\n",
    "print(crosswalk.dtypes)"
   ]
  },
  {
   "cell_type": "markdown",
   "metadata": {},
   "source": [
    "### Merge Data Together\n",
    "\n",
    "Merge crosswalk into EIA and EPA data, then merge together.\n",
    "\n",
    "Logic here is confusing...\n",
    "\n",
    "Emissions are reported at the 'unit' level which can aggregate multiple EIA boilers (and visa-versa).  Therefore, the strategy will be to join the crosswalk into EIA data, sum generation and capacity within CAMD 'units,' then calculate CAMD 'unit' level emissions rate.  \n",
    "\n",
    "Then merge emissions rates BACK into EIA data and output to a csv file."
   ]
  },
  {
   "cell_type": "code",
   "execution_count": 248,
   "metadata": {},
   "outputs": [],
   "source": [
    "# Join EIA Together\n",
    "eia_joined = pd.merge(eia923, eia860, on=['EIA_PLANT_ID', 'EIA_GENERATOR_ID'], how='left')\n",
    "\n",
    "# Merge crosswalk into eia\n",
    "eia_joined = pd.merge(eia_joined, crosswalk, on=['EIA_PLANT_ID', 'EIA_GENERATOR_ID'], how='left')\n",
    "\n",
    "#Collapse EIA to CAMD unit\n",
    "eia_collapsed = eia_joined.groupby(['CAMD_PLANT_ID', 'CAMD_UNIT_ID']).agg({'NET_GEN': 'sum', 'Capacity': 'sum'}).reset_index()\n",
    "\n",
    "# Join CAMD emissions with PM25\n",
    "emissions = pd.merge(emissions, pm25, on=['facilityId', 'unitId'], how='left')\n",
    "\n",
    "# Join with CAMD\n",
    "eia_collapsed = eia_collapsed.rename(columns={'CAMD_PLANT_ID' : 'facilityId', 'CAMD_UNIT_ID' : 'unitId'})\n",
    "camd_eia_data = pd.merge(emissions, eia_collapsed, on=['facilityId', 'unitId'], how='left')\n"
   ]
  },
  {
   "cell_type": "code",
   "execution_count": 249,
   "metadata": {},
   "outputs": [],
   "source": [
    "### Calculate tons\n",
    "# Calculate values based on existing columns\n",
    "camd_eia_data['nox_lbs'] = camd_eia_data['noxMass'] * 2000\n",
    "camd_eia_data['nox_rate'] = camd_eia_data['nox_lbs'] / camd_eia_data['NET_GEN']\n",
    "camd_eia_data['so2_lbs'] = camd_eia_data['so2Mass'] * 2000\n",
    "camd_eia_data['so2_rate'] = camd_eia_data['so2_lbs'] / camd_eia_data['NET_GEN']\n",
    "camd_eia_data['pm25_lbs'] = camd_eia_data['pm25'] * 2000\n",
    "camd_eia_data['pm25_rate'] = camd_eia_data['pm25_lbs'] / camd_eia_data['NET_GEN']"
   ]
  },
  {
   "cell_type": "code",
   "execution_count": 250,
   "metadata": {},
   "outputs": [],
   "source": [
    "## Now merge crosswalk back into camd_eia_data\n",
    "crosswalk = crosswalk.rename(columns = {'CAMD_PLANT_ID': 'facilityId', 'CAMD_UNIT_ID': 'unitId'})\n",
    "camd_eia_data = pd.merge(camd_eia_data, crosswalk, on=['facilityId', 'unitId'], how='left')"
   ]
  },
  {
   "cell_type": "markdown",
   "metadata": {},
   "source": [
    "## Calculate Generation-weighted emissions rates\n",
    "\n",
    "Trick here is that there's lots of missings.  First I'm going to throw out all rows with relevant missings, compute emissions-rates by EIA generator.  Then I'm going to find rows where some of the relevant data is there, and again compute emissions-rates by EIA generator.  Then I'm going to calculate emissions rates by EIA plan.  Finally I'll coalesce the data so that the most precise numbers are taken first."
   ]
  },
  {
   "cell_type": "code",
   "execution_count": 251,
   "metadata": {},
   "outputs": [],
   "source": [
    "# Create Generation-weighted eia-generator level emissions rates\n",
    "camd_eia_data['noxrate_generation'] = camd_eia_data['nox_rate']*camd_eia_data['NET_GEN']\n",
    "camd_eia_data['so2rate_generation'] = camd_eia_data['so2_rate']*camd_eia_data['NET_GEN']\n",
    "camd_eia_data['pm25rate_generation'] = camd_eia_data['pm25_rate']*camd_eia_data['NET_GEN']\n",
    "\n",
    "\n",
    "### start with all rows that don't have nan in NET_GEN\n",
    "collapsed_eia_generator = camd_eia_data.query('NET_GEN.notnull()')\\\n",
    "    .groupby(['EIA_GENERATOR_ID', 'EIA_PLANT_ID'], as_index=False)\\\n",
    "    .agg(lambda x: np.nan if x.isnull().any() else x.sum())\n",
    "\n",
    "collapsed_eia_generator['so2_rate']=collapsed_eia_generator['so2rate_generation']/collapsed_eia_generator['NET_GEN']\n",
    "collapsed_eia_generator['pm25_rate']=collapsed_eia_generator['pm25rate_generation']/collapsed_eia_generator['NET_GEN']\n",
    "collapsed_eia_generator['nox_rate']=collapsed_eia_generator['noxrate_generation']/collapsed_eia_generator['NET_GEN']\n",
    "\n",
    "collapsed_eia_generator = collapsed_eia_generator[['EIA_GENERATOR_ID', 'EIA_PLANT_ID', 'NET_GEN', 'nox_rate', 'pm25_rate', 'so2_rate']]\n",
    "\n",
    "## make a dataframe of all eia plants/generators and start left mergining in rates, sequentially filling in missings from best calcs to heaviest imputation\n",
    "eia_emissions_rates = eia860[['EIA_PLANT_ID', 'EIA_GENERATOR_ID']]\n",
    "eia_emissions_rates = pd.merge(eia_emissions_rates, collapsed_eia_generator, on=['EIA_PLANT_ID', 'EIA_GENERATOR_ID'], how='left')\n"
   ]
  },
  {
   "cell_type": "code",
   "execution_count": 252,
   "metadata": {},
   "outputs": [],
   "source": [
    "#First level of imputation still collapses within the generator but filters out missings first\n",
    "\n",
    "#filter to has pm25rate\n",
    "collapsed_eia_generator = camd_eia_data.query('NET_GEN.notnull()&pm25_rate.notnull()')\\\n",
    "    .groupby(['EIA_GENERATOR_ID', 'EIA_PLANT_ID'], as_index=False)\\\n",
    "    .agg(lambda x: np.nan if x.isnull().any() else x.sum())\n",
    "collapsed_eia_generator['pm25_rate']=collapsed_eia_generator['pm25rate_generation']/collapsed_eia_generator['NET_GEN']\n",
    "collapsed_eia_generator = collapsed_eia_generator[['EIA_GENERATOR_ID', 'EIA_PLANT_ID',  'pm25_rate']]\n",
    "collapsed_eia_generator.columns = ['EIA_GENERATOR_ID', 'EIA_PLANT_ID', 'pm25_rate_impute1']\n",
    "\n",
    "eia_emissions_rates = pd.merge(eia_emissions_rates, collapsed_eia_generator, on=['EIA_PLANT_ID', 'EIA_GENERATOR_ID'], how='left')\n",
    "\n",
    "#filter to has noxrate\n",
    "collapsed_eia_generator = camd_eia_data.query('NET_GEN.notnull()&nox_rate.notnull()')\\\n",
    "    .groupby(['EIA_GENERATOR_ID', 'EIA_PLANT_ID'], as_index=False)\\\n",
    "    .agg(lambda x: np.nan if x.isnull().any() else x.sum())\n",
    "collapsed_eia_generator['nox_rate']=collapsed_eia_generator['noxrate_generation']/collapsed_eia_generator['NET_GEN']\n",
    "collapsed_eia_generator = collapsed_eia_generator[['EIA_GENERATOR_ID', 'EIA_PLANT_ID',  'nox_rate']]\n",
    "collapsed_eia_generator.columns = ['EIA_GENERATOR_ID', 'EIA_PLANT_ID', 'nox_rate_impute1']\n",
    "\n",
    "eia_emissions_rates = pd.merge(eia_emissions_rates, collapsed_eia_generator, on=['EIA_PLANT_ID', 'EIA_GENERATOR_ID'], how='left')\n",
    "\n",
    "#filter to has so2\n",
    "collapsed_eia_generator = camd_eia_data.query('NET_GEN.notnull()&so2_rate.notnull()')\\\n",
    "    .groupby(['EIA_GENERATOR_ID', 'EIA_PLANT_ID'], as_index=False)\\\n",
    "    .agg(lambda x: np.nan if x.isnull().any() else x.sum())\n",
    "collapsed_eia_generator['pm25_rate']=collapsed_eia_generator['so2rate_generation']/collapsed_eia_generator['NET_GEN']\n",
    "collapsed_eia_generator = collapsed_eia_generator[['EIA_GENERATOR_ID', 'EIA_PLANT_ID',  'so2_rate']]\n",
    "collapsed_eia_generator.columns = ['EIA_GENERATOR_ID', 'EIA_PLANT_ID', 'so2_rate_impute1']\n",
    "\n",
    "eia_emissions_rates = pd.merge(eia_emissions_rates, collapsed_eia_generator, on=['EIA_PLANT_ID', 'EIA_GENERATOR_ID'], how='left')\n",
    "\n",
    "#didn't help all that much"
   ]
  },
  {
   "cell_type": "code",
   "execution_count": 253,
   "metadata": {},
   "outputs": [],
   "source": [
    "#Next level is to collapse by EIA plant\n",
    "\n",
    "#filter to has pm25rate\n",
    "collapsed_eia_generator = camd_eia_data.query('NET_GEN.notnull()&pm25_rate.notnull()')\\\n",
    "    .groupby(['EIA_PLANT_ID'], as_index=False)\\\n",
    "    .agg(lambda x: np.nan if x.isnull().any() else x.sum())\n",
    "collapsed_eia_generator['pm25_rate']=collapsed_eia_generator['pm25rate_generation']/collapsed_eia_generator['NET_GEN']\n",
    "collapsed_eia_generator = collapsed_eia_generator[['EIA_PLANT_ID',  'pm25_rate']]\n",
    "collapsed_eia_generator.columns = [ 'EIA_PLANT_ID', 'pm25_rate_impute2']\n",
    "\n",
    "eia_emissions_rates = pd.merge(eia_emissions_rates, collapsed_eia_generator, on=['EIA_PLANT_ID'], how='left')\n",
    "\n",
    "#filter to has noxrate\n",
    "collapsed_eia_generator = camd_eia_data.query('NET_GEN.notnull()&nox_rate.notnull()')\\\n",
    "    .groupby(['EIA_PLANT_ID'], as_index=False)\\\n",
    "    .agg(lambda x: np.nan if x.isnull().any() else x.sum())\n",
    "collapsed_eia_generator['nox_rate']=collapsed_eia_generator['noxrate_generation']/collapsed_eia_generator['NET_GEN']\n",
    "collapsed_eia_generator = collapsed_eia_generator[['EIA_PLANT_ID',  'nox_rate']]\n",
    "collapsed_eia_generator.columns = ['EIA_PLANT_ID', 'nox_rate_impute2']\n",
    "\n",
    "eia_emissions_rates = pd.merge(eia_emissions_rates, collapsed_eia_generator, on=['EIA_PLANT_ID'], how='left')\n",
    "\n",
    "#filter to has so2\n",
    "collapsed_eia_generator = camd_eia_data.query('NET_GEN.notnull()&so2_rate.notnull()')\\\n",
    "    .groupby(['EIA_PLANT_ID'], as_index=False)\\\n",
    "    .agg(lambda x: np.nan if x.isnull().any() else x.sum())\n",
    "collapsed_eia_generator['pm25_rate']=collapsed_eia_generator['so2rate_generation']/collapsed_eia_generator['NET_GEN']\n",
    "collapsed_eia_generator = collapsed_eia_generator[[ 'EIA_PLANT_ID',  'so2_rate']]\n",
    "collapsed_eia_generator.columns = ['EIA_PLANT_ID', 'so2_rate_impute2']\n",
    "\n",
    "eia_emissions_rates = pd.merge(eia_emissions_rates, collapsed_eia_generator, on=['EIA_PLANT_ID'], how='left')\n"
   ]
  },
  {
   "cell_type": "markdown",
   "metadata": {},
   "source": [
    "## I'm calling that a day for now"
   ]
  },
  {
   "cell_type": "code",
   "execution_count": 254,
   "metadata": {},
   "outputs": [],
   "source": [
    "eia_emissions_rates['pm25_rate_imputed']=eia_emissions_rates['pm25_rate'].combine_first(eia_emissions_rates['pm25_rate_impute1']).combine_first(eia_emissions_rates['pm25_rate_impute2'])\n",
    "eia_emissions_rates['so2_rate_imputed']=eia_emissions_rates['so2_rate'].combine_first(eia_emissions_rates['so2_rate_impute1']).combine_first(eia_emissions_rates['so2_rate_impute2'])\n",
    "eia_emissions_rates['nox_rate_imputed']=eia_emissions_rates['nox_rate'].combine_first(eia_emissions_rates['nox_rate_impute1']).combine_first(eia_emissions_rates['nox_rate_impute2'])\n",
    "\n",
    "#theres a couple emissions rates less than zero\n",
    "#just make them zero for now\n",
    "\n",
    "eia_emissions_rates['pm25_rate_imputed']=eia_emissions_rates['pm25_rate_imputed'].clip(lower=0)\n",
    "eia_emissions_rates['so2_rate_imputed']=eia_emissions_rates['so2_rate_imputed'].clip(lower=0)\n",
    "eia_emissions_rates['nox_rate_imputed'] = eia_emissions_rates['nox_rate_imputed'].clip(lower=0)\n",
    "\n",
    "eia_emissions_rates = eia_emissions_rates[['EIA_PLANT_ID', 'EIA_GENERATOR_ID', 'NET_GEN', 'pm25_rate_imputed', 'so2_rate_imputed', 'nox_rate_imputed']]\n"
   ]
  },
  {
   "cell_type": "code",
   "execution_count": 257,
   "metadata": {},
   "outputs": [],
   "source": [
    "eia_emissions_rates.to_csv('generator_emissions_rates.csv', index=False)"
   ]
  }
 ],
 "metadata": {
  "kernelspec": {
   "display_name": "powergenome",
   "language": "python",
   "name": "python3"
  },
  "language_info": {
   "codemirror_mode": {
    "name": "ipython",
    "version": 3
   },
   "file_extension": ".py",
   "mimetype": "text/x-python",
   "name": "python",
   "nbconvert_exporter": "python",
   "pygments_lexer": "ipython3",
   "version": "3.10.13"
  }
 },
 "nbformat": 4,
 "nbformat_minor": 2
}
