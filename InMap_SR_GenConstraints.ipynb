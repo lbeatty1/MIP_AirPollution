{
 "cells": [
  {
   "cell_type": "code",
   "execution_count": 2,
   "metadata": {},
   "outputs": [
    {
     "name": "stderr",
     "output_type": "stream",
     "text": [
      "C:\\Users\\lbeatty\\AppData\\Local\\Temp\\ipykernel_25220\\3896552863.py:11: UserWarning: Shapely 2.0 is installed, but because PyGEOS is also installed, GeoPandas will still use PyGEOS by default for now. To force to use and test Shapely 2.0, you have to set the environment variable USE_PYGEOS=0. You can do this before starting the Python process, or in your code before importing geopandas:\n",
      "\n",
      "import os\n",
      "os.environ['USE_PYGEOS'] = '0'\n",
      "import geopandas\n",
      "\n",
      "In a future release, GeoPandas will switch to using Shapely by default. If you are using PyGEOS directly (calling PyGEOS functions on geometries from GeoPandas), this will then stop working and you are encouraged to migrate from PyGEOS to Shapely 2.0 (https://shapely.readthedocs.io/en/latest/migration_pygeos.html).\n",
      "  import geopandas as gpd\n"
     ]
    }
   ],
   "source": [
    "globals().clear()\n",
    "\n",
    "\n",
    "from __future__ import (absolute_import, division, print_function, unicode_literals)\n",
    "from builtins import * \n",
    "from io import BytesIO, TextIOWrapper\n",
    "from zipfile import ZipFile\n",
    "import urllib.request\n",
    "import csv\n",
    "from shapely.geometry import Point\n",
    "import geopandas as gpd\n",
    "\n",
    "import time\n",
    "import numpy as np\n",
    "import zarr\n",
    "from shapely.geometry import Polygon, Point\n",
    "import pandas as pd\n",
    "import geopandas as gpd\n",
    "import s3fs\n",
    "import os\n",
    "\n",
    "\n",
    "os.chdir('C:/Users/lbeatty/Documents/Lauren_MIP_Contribution/')\n"
   ]
  },
  {
   "cell_type": "code",
   "execution_count": 3,
   "metadata": {},
   "outputs": [],
   "source": [
    "def rect(i, w, s, e, n):\n",
    "    x = [w[i], e[i], e[i], w[i], w[i]]\n",
    "    y = [s[i], s[i], n[i], n[i], s[i]]\n",
    "    return x, y\n",
    "\n",
    "def poly(sr):\n",
    "    ret = []\n",
    "    w = sr[\"W\"][:]\n",
    "    s = sr[\"S\"][:]\n",
    "    e = sr[\"E\"][:]\n",
    "    n = sr[\"N\"][:]\n",
    "    for i in range(52411):\n",
    "        x, y = rect(i, w, s, e, n)\n",
    "        ret.append(Polygon([[x[0],y[0]],[x[1],y[1]],[x[2],y[2]],\n",
    "                            [x[3],y[3]],[x[4],y[4]]]))\n",
    "    return ret"
   ]
  },
  {
   "cell_type": "code",
   "execution_count": 5,
   "metadata": {},
   "outputs": [
    {
     "name": "stdout",
     "output_type": "stream",
     "text": [
      "Making polygons as geometry.\n"
     ]
    }
   ],
   "source": [
    "rl = 's3://inmap-model/isrm_v1.2.1.zarr/'\n",
    "url = 's3://inmap-model/isrm_v1.2.1.zarr/'\n",
    "\n",
    "fs = s3fs.S3FileSystem(anon=True, client_kwargs=dict(region_name='us-east-2'))\n",
    "sr = zarr.open(s3fs.S3Map(url, s3=fs, check=False), mode=\"r\")\n",
    "\n",
    "p = poly(sr)\n"
   ]
  },
  {
   "cell_type": "code",
   "execution_count": 6,
   "metadata": {},
   "outputs": [],
   "source": [
    "scenario = '26z-short-base-200'\n",
    "model = 'GenX'\n",
    "\n",
    "emis = gpd.read_file('InMap/MIP_Emissions/'+scenario+'/'+model+'/emissions_2020.shp')\n"
   ]
  },
  {
   "cell_type": "code",
   "execution_count": 7,
   "metadata": {},
   "outputs": [
    {
     "name": "stdout",
     "output_type": "stream",
     "text": [
      "Finished joining the dataframes.\n"
     ]
    }
   ],
   "source": [
    "df = pd.DataFrame({'Location': range(52411)})\n",
    "gdf = gpd.GeoDataFrame(df, geometry=p)\n",
    "\n",
    "# join the emis dataframe into the grid dataframe\n",
    "emis.crs = \"+proj=longlat\"\n",
    "gdf.crs = \"+proj=lcc +lat_1=33.000000 +lat_2=45.000000 +lat_0=40.000000 +lon_0=-97.000000 +x_0=0 +y_0=0 +a=6370997.000000 +b=6370997.000000 +to_meter=1\"\n",
    "emis = emis.to_crs(gdf.crs)\n",
    "join_right_df = gdf.sjoin(emis, how=\"right\")\n",
    "print(\"Finished joining the dataframes.\")"
   ]
  },
  {
   "cell_type": "code",
   "execution_count": 8,
   "metadata": {},
   "outputs": [
    {
     "name": "stdout",
     "output_type": "stream",
     "text": [
      "<bound method NDFrame.head of       index_left  Location   Longitude   Latitude          NOx          SOx  \\\n",
      "0          28522     28522    -88.0103    31.0069   628.021704    10.693294   \n",
      "1          28522     28522    -88.0103    31.0069   628.021704    10.693294   \n",
      "2          28522     28522    -88.0103    31.0069  1122.295464  1586.303117   \n",
      "3          28522     28522    -88.0103    31.0069  2192.882493  3099.519194   \n",
      "4          28522     28522    -88.0103    31.0069    56.572379     2.232006   \n",
      "...          ...       ...         ...        ...          ...          ...   \n",
      "7524       42990     42990    -76.6861    38.5444     0.007506     0.000144   \n",
      "7525       25755     25755    -89.4635  31.837173     9.822716     0.188374   \n",
      "7526       37495     37495  -80.694722  32.329402     1.320886     0.182576   \n",
      "7527       37495     37495  -80.694722  32.329402     0.528355     0.073030   \n",
      "7528       37495     37495  -80.694722  32.329402     1.268966     0.024335   \n",
      "\n",
      "           PM2_5        VOC        NH3                         geometry  \n",
      "0      27.270573  17.301413   9.773711   POINT (858906.377 -954885.860)  \n",
      "1      27.270573  17.301413   9.773711   POINT (858906.377 -954885.860)  \n",
      "2     102.674529  21.534828   7.609575   POINT (858906.377 -954885.860)  \n",
      "3     200.618450  42.077465  14.868548   POINT (858906.377 -954885.860)  \n",
      "4      19.933520   4.437334  12.646901   POINT (858906.377 -954885.860)  \n",
      "...          ...        ...        ...                              ...  \n",
      "7524    0.001256   0.000353   0.001084    POINT (1742462.780 34590.312)  \n",
      "7525    1.643342   0.462016   1.418700   POINT (712740.053 -875215.673)  \n",
      "7526    0.336132   0.009609   0.197070  POINT (1525733.153 -712713.698)  \n",
      "7527    0.134453   0.003844   0.078828  POINT (1525733.153 -712713.698)  \n",
      "7528    0.212298   0.059686   0.183277  POINT (1525733.153 -712713.698)  \n",
      "\n",
      "[7529 rows x 10 columns]>\n"
     ]
    }
   ],
   "source": [
    "print(join_right_df.head)"
   ]
  }
 ],
 "metadata": {
  "kernelspec": {
   "display_name": "Python 3",
   "language": "python",
   "name": "python3"
  },
  "language_info": {
   "codemirror_mode": {
    "name": "ipython",
    "version": 3
   },
   "file_extension": ".py",
   "mimetype": "text/x-python",
   "name": "python",
   "nbconvert_exporter": "python",
   "pygments_lexer": "ipython3",
   "version": "3.10.13"
  }
 },
 "nbformat": 4,
 "nbformat_minor": 2
}
