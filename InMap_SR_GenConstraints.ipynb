{
 "cells": [
  {
   "cell_type": "code",
   "execution_count": 55,
   "metadata": {},
   "outputs": [],
   "source": [
    "globals().clear()\n",
    "\n",
    "\n",
    "from __future__ import (absolute_import, division, print_function, unicode_literals)\n",
    "from builtins import * \n",
    "from io import BytesIO, TextIOWrapper\n",
    "from zipfile import ZipFile\n",
    "import urllib.request\n",
    "import csv\n",
    "from shapely.geometry import Point\n",
    "import geopandas as gpd\n",
    "\n",
    "import time\n",
    "import numpy as np\n",
    "import zarr\n",
    "from shapely.geometry import Polygon, Point\n",
    "import pandas as pd\n",
    "import geopandas as gpd\n",
    "import s3fs\n",
    "import os\n",
    "\n",
    "\n",
    "os.chdir('C:/Users/lbeatty/Documents/Lauren_MIP_Contribution/')\n"
   ]
  },
  {
   "cell_type": "code",
   "execution_count": 56,
   "metadata": {},
   "outputs": [],
   "source": [
    "def rect(i, w, s, e, n):\n",
    "    x = [w[i], e[i], e[i], w[i], w[i]]\n",
    "    y = [s[i], s[i], n[i], n[i], s[i]]\n",
    "    return x, y\n",
    "\n",
    "def poly(sr):\n",
    "    ret = []\n",
    "    w = sr[\"W\"][:]\n",
    "    s = sr[\"S\"][:]\n",
    "    e = sr[\"E\"][:]\n",
    "    n = sr[\"N\"][:]\n",
    "    for i in range(52411):\n",
    "        x, y = rect(i, w, s, e, n)\n",
    "        ret.append(Polygon([[x[0],y[0]],[x[1],y[1]],[x[2],y[2]],\n",
    "                            [x[3],y[3]],[x[4],y[4]]]))\n",
    "    return ret"
   ]
  },
  {
   "cell_type": "code",
   "execution_count": 57,
   "metadata": {},
   "outputs": [],
   "source": [
    "rl = 's3://inmap-model/isrm_v1.2.1.zarr/'\n",
    "url = 's3://inmap-model/isrm_v1.2.1.zarr/'\n",
    "\n",
    "fs = s3fs.S3FileSystem(anon=True, client_kwargs=dict(region_name='us-east-2'))\n",
    "sr = zarr.open(s3fs.S3Map(url, s3=fs, check=False), mode=\"r\")\n",
    "\n",
    "p = poly(sr)\n"
   ]
  },
  {
   "cell_type": "code",
   "execution_count": 58,
   "metadata": {},
   "outputs": [],
   "source": [
    "scenario = '26z-short-base-200'\n",
    "model = 'GenX'\n",
    "\n",
    "year='2030'\n",
    "emis = gpd.read_file('InMap/MIP_Emissions/marginal_emissions_'+year+'.shp')\n",
    "fact = 28766.639"
   ]
  },
  {
   "cell_type": "code",
   "execution_count": 59,
   "metadata": {},
   "outputs": [
    {
     "name": "stdout",
     "output_type": "stream",
     "text": [
      "Finished joining the dataframes.\n"
     ]
    }
   ],
   "source": [
    "url = 's3://inmap-model/isrm_v1.2.1.zarr/'\n",
    "fs = s3fs.S3FileSystem(anon=True, client_kwargs=dict(region_name='us-east-2'))\n",
    "sr = zarr.open(s3fs.S3Map(url, s3=fs, check=False), mode=\"r\")\n",
    "\n",
    "df = pd.DataFrame({'Location': range(52411)})\n",
    "p = poly(sr)\n",
    "gdf = gpd.GeoDataFrame(df, geometry=p)\n",
    "\n",
    "# join the emis dataframe into the grid dataframe\n",
    "emis.crs = \"+proj=longlat\"\n",
    "gdf.crs = \"+proj=lcc +lat_1=33.000000 +lat_2=45.000000 +lat_0=40.000000 +lon_0=-97.000000 +x_0=0 +y_0=0 +a=6370997.000000 +b=6370997.000000 +to_meter=1\"\n",
    "emis = emis.to_crs(gdf.crs)\n",
    "join_right_df = gdf.sjoin(emis, how=\"right\")\n",
    "print(\"Finished joining the dataframes.\")"
   ]
  },
  {
   "cell_type": "code",
   "execution_count": 60,
   "metadata": {},
   "outputs": [
    {
     "name": "stdout",
     "output_type": "stream",
     "text": [
      "<bound method NDFrame.head of         index_left  Location  Longitude  Latitude           NOx           SOx  \\\n",
      "0              841       841  -124.2103  40.74150  5.844717e-07  3.021844e-08   \n",
      "1              841       841  -124.2103  40.74150  1.912806e-06  2.770003e-08   \n",
      "2              841       841  -124.2103  40.74150  9.549104e-04  2.404413e-05   \n",
      "3              841       841  -124.2103  40.74150  5.844717e-07  3.021844e-08   \n",
      "4              841       841  -124.2103  40.74150  6.579902e-07  3.401950e-08   \n",
      "...            ...       ...        ...       ...           ...           ...   \n",
      "136019       51802     51802   -67.9944  45.48220  0.000000e+00  0.000000e+00   \n",
      "136020       51802     51802   -67.9710  45.61498  0.000000e+00  0.000000e+00   \n",
      "136021       51707     51707   -67.8111  46.54422  0.000000e+00  0.000000e+00   \n",
      "136022       51885     51885   -67.5477  44.67810  5.412812e-05  4.669999e-05   \n",
      "136023       51886     51886   -67.4012  45.15540  0.000000e+00  0.000000e+00   \n",
      "\n",
      "               PM2_5           VOC           NH3  \\\n",
      "0       2.635285e-07  7.126543e-08  1.351059e-07   \n",
      "1       1.990265e-07  9.709006e-08  5.362482e-07   \n",
      "2       2.643930e-04  8.412440e-05  0.000000e+00   \n",
      "3       2.635285e-07  7.126543e-08  1.351059e-07   \n",
      "4       2.966768e-07  8.022963e-08  1.521004e-07   \n",
      "...              ...           ...           ...   \n",
      "136019  0.000000e+00  0.000000e+00  0.000000e+00   \n",
      "136020  0.000000e+00  0.000000e+00  0.000000e+00   \n",
      "136021  0.000000e+00  0.000000e+00  0.000000e+00   \n",
      "136022  8.492650e-06  3.478186e-06  4.520412e-06   \n",
      "136023  0.000000e+00  0.000000e+00  0.000000e+00   \n",
      "\n",
      "                                             Resource  \\\n",
      "0                  BASN_naturalgas_ccavgcf_moderate_0   \n",
      "1                  BASN_naturalgas_ctavgcf_moderate_0   \n",
      "2       CANO_natural_gas_internal_combustion_engine_1   \n",
      "3                  CANO_naturalgas_ccavgcf_moderate_0   \n",
      "4           CANO_naturalgas_ccccsavgcf_conservative_0   \n",
      "...                                               ...   \n",
      "136019                    ISNE_onshore_wind_turbine_1   \n",
      "136020                    ISNE_onshore_wind_turbine_1   \n",
      "136021                    ISNE_onshore_wind_turbine_1   \n",
      "136022                                 ISNE_biomass_1   \n",
      "136023                     ISNE_small_hydroelectric_1   \n",
      "\n",
      "                               geometry  \n",
      "0       POINT (-2246880.990 420936.407)  \n",
      "1       POINT (-2246880.990 420936.407)  \n",
      "2       POINT (-2246880.990 420936.407)  \n",
      "3       POINT (-2246880.990 420936.407)  \n",
      "4       POINT (-2246880.990 420936.407)  \n",
      "...                                 ...  \n",
      "136019   POINT (2225255.477 965924.708)  \n",
      "136020   POINT (2222347.727 980530.765)  \n",
      "136021  POINT (2201472.787 1082715.137)  \n",
      "136022   POINT (2286804.253 892173.327)  \n",
      "136023   POINT (2280795.594 946144.016)  \n",
      "\n",
      "[136024 rows x 11 columns]>\n",
      "SOA data is allocated.\n"
     ]
    }
   ],
   "source": [
    "index = join_right_df.Location.tolist()\n",
    "\n",
    "ppl = np.unique(join_right_df.Location.tolist())\n",
    "\n",
    "num = range(0,len(ppl))\n",
    "\n",
    "dictionary = dict(zip(ppl, num))\n",
    "\n",
    "SOA = sr['SOA'].get_orthogonal_selection(([0], ppl, slice(None)))\n",
    "print(\"SOA data is allocated.\")\n",
    "pNO3 = sr['pNO3'].get_orthogonal_selection(([0], ppl, slice(None)))\n",
    "print(\"pNO3 data is allocated.\")\n",
    "pNH4 = sr['pNH4'].get_orthogonal_selection(([0], ppl, slice(None)))\n",
    "print(\"pNH4 data is allocated.\")\n",
    "pSO4 = sr['pSO4'].get_orthogonal_selection(([0], ppl, slice(None)))\n",
    "print(\"pSO4 data is allocated.\")\n",
    "PM25 = sr['PrimaryPM25'].get_orthogonal_selection(([0], ppl, slice(None)))\n",
    "print(\"PrimaryPM25 data is allocated.\")"
   ]
  },
  {
   "cell_type": "code",
   "execution_count": null,
   "metadata": {},
   "outputs": [
    {
     "name": "stdout",
     "output_type": "stream",
     "text": [
      "Iteration: 0\n",
      "Iteration: 5000\n"
     ]
    },
    {
     "ename": "KeyboardInterrupt",
     "evalue": "",
     "output_type": "error",
     "traceback": [
      "\u001b[1;31m---------------------------------------------------------------------------\u001b[0m",
      "\u001b[1;31mKeyboardInterrupt\u001b[0m                         Traceback (most recent call last)",
      "Cell \u001b[1;32mIn[46], line 21\u001b[0m\n\u001b[0;32m     19\u001b[0m data \u001b[38;5;241m=\u001b[39m {\u001b[38;5;124m'\u001b[39m\u001b[38;5;124mGroup\u001b[39m\u001b[38;5;124m'\u001b[39m:[group], \u001b[38;5;124m'\u001b[39m\u001b[38;5;124mPollutant\u001b[39m\u001b[38;5;124m'\u001b[39m:pollutant, \u001b[38;5;124m'\u001b[39m\u001b[38;5;124mExposure\u001b[39m\u001b[38;5;124m'\u001b[39m: [weighted_exposure], \u001b[38;5;124m'\u001b[39m\u001b[38;5;124mCluster\u001b[39m\u001b[38;5;124m'\u001b[39m: [emis\u001b[38;5;241m.\u001b[39mResource[i]]}\n\u001b[0;32m     20\u001b[0m df \u001b[38;5;241m=\u001b[39m pd\u001b[38;5;241m.\u001b[39mDataFrame(data)\n\u001b[1;32m---> 21\u001b[0m exposure_data \u001b[38;5;241m=\u001b[39m \u001b[43mpd\u001b[49m\u001b[38;5;241;43m.\u001b[39;49m\u001b[43mconcat\u001b[49m\u001b[43m(\u001b[49m\u001b[43m[\u001b[49m\u001b[43mexposure_data\u001b[49m\u001b[43m,\u001b[49m\u001b[43m \u001b[49m\u001b[43mdf\u001b[49m\u001b[43m]\u001b[49m\u001b[43m)\u001b[49m\n\u001b[0;32m     22\u001b[0m \u001b[38;5;28;01mif\u001b[39;00m i \u001b[38;5;241m%\u001b[39m \u001b[38;5;241m5000\u001b[39m \u001b[38;5;241m==\u001b[39m \u001b[38;5;241m0\u001b[39m:\n\u001b[0;32m     23\u001b[0m     \u001b[38;5;28mprint\u001b[39m(\u001b[38;5;124m\"\u001b[39m\u001b[38;5;124mIteration:\u001b[39m\u001b[38;5;124m\"\u001b[39m, i)\n",
      "File \u001b[1;32mc:\\Users\\lbeatty\\AppData\\Local\\miniforge3\\envs\\powergenome\\lib\\site-packages\\pandas\\util\\_decorators.py:311\u001b[0m, in \u001b[0;36mdeprecate_nonkeyword_arguments.<locals>.decorate.<locals>.wrapper\u001b[1;34m(*args, **kwargs)\u001b[0m\n\u001b[0;32m    305\u001b[0m \u001b[38;5;28;01mif\u001b[39;00m \u001b[38;5;28mlen\u001b[39m(args) \u001b[38;5;241m>\u001b[39m num_allow_args:\n\u001b[0;32m    306\u001b[0m     warnings\u001b[38;5;241m.\u001b[39mwarn(\n\u001b[0;32m    307\u001b[0m         msg\u001b[38;5;241m.\u001b[39mformat(arguments\u001b[38;5;241m=\u001b[39marguments),\n\u001b[0;32m    308\u001b[0m         \u001b[38;5;167;01mFutureWarning\u001b[39;00m,\n\u001b[0;32m    309\u001b[0m         stacklevel\u001b[38;5;241m=\u001b[39mstacklevel,\n\u001b[0;32m    310\u001b[0m     )\n\u001b[1;32m--> 311\u001b[0m \u001b[38;5;28;01mreturn\u001b[39;00m func(\u001b[38;5;241m*\u001b[39margs, \u001b[38;5;241m*\u001b[39m\u001b[38;5;241m*\u001b[39mkwargs)\n",
      "File \u001b[1;32mc:\\Users\\lbeatty\\AppData\\Local\\miniforge3\\envs\\powergenome\\lib\\site-packages\\pandas\\core\\reshape\\concat.py:360\u001b[0m, in \u001b[0;36mconcat\u001b[1;34m(objs, axis, join, ignore_index, keys, levels, names, verify_integrity, sort, copy)\u001b[0m\n\u001b[0;32m    156\u001b[0m \u001b[38;5;250m\u001b[39m\u001b[38;5;124;03m\"\"\"\u001b[39;00m\n\u001b[0;32m    157\u001b[0m \u001b[38;5;124;03mConcatenate pandas objects along a particular axis with optional set logic\u001b[39;00m\n\u001b[0;32m    158\u001b[0m \u001b[38;5;124;03malong the other axes.\u001b[39;00m\n\u001b[1;32m   (...)\u001b[0m\n\u001b[0;32m    345\u001b[0m \u001b[38;5;124;03mValueError: Indexes have overlapping values: ['a']\u001b[39;00m\n\u001b[0;32m    346\u001b[0m \u001b[38;5;124;03m\"\"\"\u001b[39;00m\n\u001b[0;32m    347\u001b[0m op \u001b[38;5;241m=\u001b[39m _Concatenator(\n\u001b[0;32m    348\u001b[0m     objs,\n\u001b[0;32m    349\u001b[0m     axis\u001b[38;5;241m=\u001b[39maxis,\n\u001b[1;32m   (...)\u001b[0m\n\u001b[0;32m    357\u001b[0m     sort\u001b[38;5;241m=\u001b[39msort,\n\u001b[0;32m    358\u001b[0m )\n\u001b[1;32m--> 360\u001b[0m \u001b[38;5;28;01mreturn\u001b[39;00m \u001b[43mop\u001b[49m\u001b[38;5;241;43m.\u001b[39;49m\u001b[43mget_result\u001b[49m\u001b[43m(\u001b[49m\u001b[43m)\u001b[49m\n",
      "File \u001b[1;32mc:\\Users\\lbeatty\\AppData\\Local\\miniforge3\\envs\\powergenome\\lib\\site-packages\\pandas\\core\\reshape\\concat.py:595\u001b[0m, in \u001b[0;36m_Concatenator.get_result\u001b[1;34m(self)\u001b[0m\n\u001b[0;32m    591\u001b[0m             indexers[ax] \u001b[38;5;241m=\u001b[39m obj_labels\u001b[38;5;241m.\u001b[39mget_indexer(new_labels)\n\u001b[0;32m    593\u001b[0m     mgrs_indexers\u001b[38;5;241m.\u001b[39mappend((obj\u001b[38;5;241m.\u001b[39m_mgr, indexers))\n\u001b[1;32m--> 595\u001b[0m new_data \u001b[38;5;241m=\u001b[39m \u001b[43mconcatenate_managers\u001b[49m\u001b[43m(\u001b[49m\n\u001b[0;32m    596\u001b[0m \u001b[43m    \u001b[49m\u001b[43mmgrs_indexers\u001b[49m\u001b[43m,\u001b[49m\u001b[43m \u001b[49m\u001b[38;5;28;43mself\u001b[39;49m\u001b[38;5;241;43m.\u001b[39;49m\u001b[43mnew_axes\u001b[49m\u001b[43m,\u001b[49m\u001b[43m \u001b[49m\u001b[43mconcat_axis\u001b[49m\u001b[38;5;241;43m=\u001b[39;49m\u001b[38;5;28;43mself\u001b[39;49m\u001b[38;5;241;43m.\u001b[39;49m\u001b[43mbm_axis\u001b[49m\u001b[43m,\u001b[49m\u001b[43m \u001b[49m\u001b[43mcopy\u001b[49m\u001b[38;5;241;43m=\u001b[39;49m\u001b[38;5;28;43mself\u001b[39;49m\u001b[38;5;241;43m.\u001b[39;49m\u001b[43mcopy\u001b[49m\n\u001b[0;32m    597\u001b[0m \u001b[43m\u001b[49m\u001b[43m)\u001b[49m\n\u001b[0;32m    598\u001b[0m \u001b[38;5;28;01mif\u001b[39;00m \u001b[38;5;129;01mnot\u001b[39;00m \u001b[38;5;28mself\u001b[39m\u001b[38;5;241m.\u001b[39mcopy:\n\u001b[0;32m    599\u001b[0m     new_data\u001b[38;5;241m.\u001b[39m_consolidate_inplace()\n",
      "File \u001b[1;32mc:\\Users\\lbeatty\\AppData\\Local\\miniforge3\\envs\\powergenome\\lib\\site-packages\\pandas\\core\\internals\\concat.py:232\u001b[0m, in \u001b[0;36mconcatenate_managers\u001b[1;34m(mgrs_indexers, axes, concat_axis, copy)\u001b[0m\n\u001b[0;32m    226\u001b[0m vals \u001b[38;5;241m=\u001b[39m [ju\u001b[38;5;241m.\u001b[39mblock\u001b[38;5;241m.\u001b[39mvalues \u001b[38;5;28;01mfor\u001b[39;00m ju \u001b[38;5;129;01min\u001b[39;00m join_units]\n\u001b[0;32m    228\u001b[0m \u001b[38;5;28;01mif\u001b[39;00m \u001b[38;5;129;01mnot\u001b[39;00m blk\u001b[38;5;241m.\u001b[39mis_extension:\n\u001b[0;32m    229\u001b[0m     \u001b[38;5;66;03m# _is_uniform_join_units ensures a single dtype, so\u001b[39;00m\n\u001b[0;32m    230\u001b[0m     \u001b[38;5;66;03m#  we can use np.concatenate, which is more performant\u001b[39;00m\n\u001b[0;32m    231\u001b[0m     \u001b[38;5;66;03m#  than concat_compat\u001b[39;00m\n\u001b[1;32m--> 232\u001b[0m     values \u001b[38;5;241m=\u001b[39m \u001b[43mnp\u001b[49m\u001b[38;5;241;43m.\u001b[39;49m\u001b[43mconcatenate\u001b[49m\u001b[43m(\u001b[49m\u001b[43mvals\u001b[49m\u001b[43m,\u001b[49m\u001b[43m \u001b[49m\u001b[43maxis\u001b[49m\u001b[38;5;241;43m=\u001b[39;49m\u001b[38;5;241;43m1\u001b[39;49m\u001b[43m)\u001b[49m\n\u001b[0;32m    233\u001b[0m \u001b[38;5;28;01melse\u001b[39;00m:\n\u001b[0;32m    234\u001b[0m     \u001b[38;5;66;03m# TODO(EA2D): special-casing not needed with 2D EAs\u001b[39;00m\n\u001b[0;32m    235\u001b[0m     values \u001b[38;5;241m=\u001b[39m concat_compat(vals, axis\u001b[38;5;241m=\u001b[39m\u001b[38;5;241m1\u001b[39m)\n",
      "File \u001b[1;32m<__array_function__ internals>:180\u001b[0m, in \u001b[0;36mconcatenate\u001b[1;34m(*args, **kwargs)\u001b[0m\n",
      "\u001b[1;31mKeyboardInterrupt\u001b[0m: "
     ]
    }
   ],
   "source": [
    "exposure_data = pd.DataFrame()\n",
    "BlackPop = sr['Black'][0:52411]\n",
    "AsianPop = sr['Asian'][0:52411]\n",
    "NativePop = sr['Native'][0:52411]\n",
    "LatinoPop = sr['Latino'][0:52411]\n",
    "WhiteNoLatPop = sr['WhiteNoLat'][0:52411]\n",
    "\n",
    "pollution_dict = dict(zip(['VOC', 'NOx', 'NH3', 'SOx', 'PM2_5'], [SOA, pNO3, pNH4, pSO4, PM25]))\n",
    "\n",
    "group=1\n",
    "for column in [BlackPop, AsianPop, NativePop, LatinoPop, WhiteNoLatPop]:\n",
    "    sumpop = sum(column)\n",
    "    for pollutant in ['VOC', 'NOx', 'NH3', 'SOx', 'PM2_5']:\n",
    "            for i in range(len(index)):\n",
    "                exposure = pollution_dict[pollutant][0, dictionary[index[i]], :]*emis[pollutant][i]*fact\n",
    "                weighted_exposure = sum(exposure*column)/sumpop\n",
    "\n",
    "                data = {'Group':[group], 'Pollutant':pollutant, 'Exposure': [weighted_exposure], 'Cluster': [emis.Resource[i]]}\n",
    "                df = pd.DataFrame(data)\n",
    "                exposure_data = pd.concat([exposure_data, df])\n",
    "                if i % 5000 == 0:\n",
    "                    print(\"Iteration:\", i)\n",
    "    group=group+1\n",
    "    "
   ]
  },
  {
   "cell_type": "code",
   "execution_count": null,
   "metadata": {},
   "outputs": [],
   "source": [
    "exposure_data.loc[exposure_data['Group'] == 1, 'Race'] = 'Black'\n",
    "exposure_data.loc[exposure_data['Group'] == 2, 'Race'] = 'Asian'\n",
    "exposure_data.loc[exposure_data['Group'] == 3, 'Race'] = 'Native'\n",
    "exposure_data.loc[exposure_data['Group'] == 4, 'Race'] = 'Latino'\n",
    "exposure_data.loc[exposure_data['Group'] == 5, 'Race'] = 'WhiteNoLat'\n",
    "\n",
    "exposure_data_collapsed = exposure_data.groupby(['Race', 'Cluster','Pollutant']).agg({'Exposure':'sum'}).reset_index()"
   ]
  }
 ],
 "metadata": {
  "kernelspec": {
   "display_name": "Python 3",
   "language": "python",
   "name": "python3"
  },
  "language_info": {
   "codemirror_mode": {
    "name": "ipython",
    "version": 3
   },
   "file_extension": ".py",
   "mimetype": "text/x-python",
   "name": "python",
   "nbconvert_exporter": "python",
   "pygments_lexer": "ipython3",
   "version": "3.10.13"
  }
 },
 "nbformat": 4,
 "nbformat_minor": 2
}
