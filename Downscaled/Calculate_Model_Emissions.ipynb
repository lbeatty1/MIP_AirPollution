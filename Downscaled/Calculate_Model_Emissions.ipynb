{
 "cells": [
  {
   "cell_type": "markdown",
   "metadata": {},
   "source": [
    "# Code to impute emissions rates, then take model output and generate total emissions by year\n",
    "The first challenge will be to get emissions rates (lb/mwh).  To do this I'll be taking EIA data on net generation and EPA data on emissions to calculate rates.  There will be many missings that I will fill in by taking capacity-weighted technology-planning_year means.\n",
    "\n",
    "Once I have emissions rates, the goal will be to output a series of shapefiles of location-specific aggregate emissions by year. A challenge here is taking production from the scenario outputs and assigning it to specific plants.  I assign production based on capacity.\n",
    "\n",
    "### Brief Code Overview\n",
    "1. Data cleaning (formatting columns, names, etc)\n",
    "2. Merge EIA and EPA data into existing_gen_units using the EPA-EIA crosswalk. \n",
    "3. Impute generation for generators with missing generation.  To do this, I take plant-level generation and distribute that generation to generators based on each generator's capacity.\n",
    "4. Calculate generation-weighted average emissions rates, then use those to fill in generators with missing emissions rates (missings get filled in with a technology-planningyear weighted mean).\n",
    "5. Calculate aggregate emissions by multiplying rates by model-output specified generation.  As mentioned earlier, I calculate generator level generation either by calculating a generator's share of total capacity or net generation for that cluster-planningyear.\n",
    "6. Split the emissions output by planning year and write to shapefiles.\n"
   ]
  },
  {
   "cell_type": "markdown",
   "metadata": {},
   "source": [
    "## 1. Data cleaning"
   ]
  },
  {
   "cell_type": "code",
   "execution_count": 1,
   "metadata": {},
   "outputs": [
    {
     "name": "stderr",
     "output_type": "stream",
     "text": [
      "C:\\Users\\lbeatty\\AppData\\Local\\Temp\\ipykernel_15316\\1677484318.py:7: UserWarning: Shapely 2.0 is installed, but because PyGEOS is also installed, GeoPandas will still use PyGEOS by default for now. To force to use and test Shapely 2.0, you have to set the environment variable USE_PYGEOS=0. You can do this before starting the Python process, or in your code before importing geopandas:\n",
      "\n",
      "import os\n",
      "os.environ['USE_PYGEOS'] = '0'\n",
      "import geopandas\n",
      "\n",
      "In a future release, GeoPandas will switch to using Shapely by default. If you are using PyGEOS directly (calling PyGEOS functions on geometries from GeoPandas), this will then stop working and you are encouraged to migrate from PyGEOS to Shapely 2.0 (https://shapely.readthedocs.io/en/latest/migration_pygeos.html).\n",
      "  import geopandas as gpd\n"
     ]
    }
   ],
   "source": [
    "globals().clear()\n",
    "\n",
    "import pandas as pd\n",
    "import matplotlib.pyplot as plt\n",
    "import os\n",
    "import numpy as np\n",
    "import geopandas as gpd\n",
    "import fiona\n",
    "import math\n",
    "from shapely.geometry import Point"
   ]
  },
  {
   "cell_type": "code",
   "execution_count": 150,
   "metadata": {},
   "outputs": [
    {
     "name": "stderr",
     "output_type": "stream",
     "text": [
      "C:\\Users\\lbeatty\\AppData\\Local\\Temp\\ipykernel_9200\\924493314.py:5: DtypeWarning: Columns (17,20,21) have mixed types. Specify dtype option on import or set low_memory=False.\n",
      "  existing_gen_units_2030 = pd.read_csv('MIP_results_comparison/case_settings/26-zone/usensys-inputs-short/usensys-inputs-short/2030/base_short_2030/extra_outputs/existing_gen_units.csv')\n",
      "C:\\Users\\lbeatty\\AppData\\Local\\Temp\\ipykernel_9200\\924493314.py:6: DtypeWarning: Columns (17,20,21) have mixed types. Specify dtype option on import or set low_memory=False.\n",
      "  existing_gen_units_2040 = pd.read_csv('MIP_results_comparison/case_settings/26-zone/usensys-inputs-short/usensys-inputs-short/2040/base_short_2040/extra_outputs/existing_gen_units.csv')\n",
      "C:\\Users\\lbeatty\\AppData\\Local\\Temp\\ipykernel_9200\\924493314.py:7: DtypeWarning: Columns (17,20,21) have mixed types. Specify dtype option on import or set low_memory=False.\n",
      "  existing_gen_units_2050 = pd.read_csv('MIP_results_comparison/case_settings/26-zone/usensys-inputs-short/usensys-inputs-short/2050/base_short_2050/extra_outputs/existing_gen_units.csv')\n"
     ]
    }
   ],
   "source": [
    "os.chdir('C:/Users/lbeatty/Documents/Lauren_MIP_Contribution/')\n",
    "\n",
    "\n",
    "#PG existing gen units output\n",
    "existing_gen_units_2030 = pd.read_csv('MIP_results_comparison/case_settings/26-zone/usensys-inputs-short/usensys-inputs-short/2030/base_short_2030/extra_outputs/existing_gen_units.csv')\n",
    "existing_gen_units_2040 = pd.read_csv('MIP_results_comparison/case_settings/26-zone/usensys-inputs-short/usensys-inputs-short/2040/base_short_2040/extra_outputs/existing_gen_units.csv')\n",
    "existing_gen_units_2050 = pd.read_csv('MIP_results_comparison/case_settings/26-zone/usensys-inputs-short/usensys-inputs-short/2050/base_short_2050/extra_outputs/existing_gen_units.csv')\n",
    "\n",
    "\n",
    "#filter by retirement year\n",
    "#the code was written when existing_gen_units varied by year so lots of artifacts of the way the old output looked\n",
    "existing_gen_units_2030 = existing_gen_units_2030.query('retirement_year>=2030')\n",
    "existing_gen_units_2040 = existing_gen_units_2030.query('retirement_year>=2040')\n",
    "existing_gen_units_2050 = existing_gen_units_2030.query('retirement_year>=2050')\n",
    "\n",
    "\n",
    "#EIA-EPA Crosswalk\n",
    "crosswalk = pd.read_csv(\"Data/epa_eia_crosswalk.csv\")\n",
    "\n",
    "# EIA 860 for Generator Info\n",
    "eia860 = pd.read_excel(\"Data/eia860/3_1_Generator_Y2020.xlsx\", skiprows=1)\n",
    "\n",
    "# EIA923 for Generation Info\n",
    "eia923_fuels = pd.read_excel(\"Data/eia923/EIA923_Schedules_2_3_4_5_M_12_2020_Final_Revision.xlsx\", sheet_name='Page 1 Generation and Fuel Data', skiprows=5)\n",
    "eia923_generators = pd.read_excel(\"Data/eia923/EIA923_Schedules_2_3_4_5_M_12_2020_Final_Revision.xlsx\", sheet_name='Page 4 Generator Data', skiprows=5)\n",
    "\n",
    "#Emissions\n",
    "emissions = pd.read_csv(\"Data/CAMD/facilities_emissions.csv\")\n",
    "#only want year 2020\n",
    "emissions = emissions.query('year==2020')\n",
    "\n",
    "# PM25\n",
    "pm25 = pd.read_excel(\"Data/eGRID2020 DRAFT PM Emissions.xlsx\", sheet_name=\"2020 PM Unit-level Data\", skiprows=1)\n"
   ]
  },
  {
   "cell_type": "code",
   "execution_count": 151,
   "metadata": {},
   "outputs": [
    {
     "name": "stderr",
     "output_type": "stream",
     "text": [
      "C:\\Users\\lbeatty\\AppData\\Local\\Temp\\ipykernel_9200\\2972420735.py:11: DtypeWarning: Columns (4) have mixed types. Specify dtype option on import or set low_memory=False.\n",
      "  nei_cems = pd.read_csv('Data/NEI/egucems_SmokeFlatFile_2020NEI_POINT_20230128_27mar2023_v1.csv', skiprows=16)\n",
      "C:\\Users\\lbeatty\\AppData\\Local\\Temp\\ipykernel_9200\\2972420735.py:12: DtypeWarning: Columns (4,5) have mixed types. Specify dtype option on import or set low_memory=False.\n",
      "  nei_noncems = pd.read_csv('Data/NEI/egunoncems_SmokeFlatFile_2020NEI_POINT_20230128_27mar2023_v0.csv', skiprows=15)\n"
     ]
    }
   ],
   "source": [
    "#############################\n",
    "## Read in and format NEI ####\n",
    "###############################\n",
    "\n",
    "#nei data gives values for ammonia, vocs, and also pm2.5\n",
    "#It also has so2 and nox output that mostly matches camd data\n",
    "#I'll prioritise camd data, but fill in any missings with nei\n",
    "\n",
    "#cems noncems just distinguish whether emissions were continuously monitored or imputed\n",
    "#doesn't really matter for our purposes\n",
    "nei_cems = pd.read_csv('Data/NEI/egucems_SmokeFlatFile_2020NEI_POINT_20230128_27mar2023_v1.csv', skiprows=16)\n",
    "nei_noncems = pd.read_csv('Data/NEI/egunoncems_SmokeFlatFile_2020NEI_POINT_20230128_27mar2023_v0.csv', skiprows=15)\n",
    "nei = pd.concat([nei_cems, nei_noncems])\n",
    "\n",
    "#pull out the relevant pollutants\n",
    "nei = nei.groupby(['oris_facility_code', 'oris_boiler_id', 'poll']).agg({'ann_value': 'sum'}).reset_index()\n",
    "nei = nei[nei['poll'].isin(['CO', 'NH3', 'NOX', 'PM25-PRI', 'SO2', 'SO4', 'VOC'])]\n",
    "\n",
    "#put weights in pounds\n",
    "nei['poll']=nei['poll']+'_nei_tons'\n",
    "nei['ann_value']=nei['ann_value']\n",
    "nei = nei.pivot(index=['oris_facility_code', 'oris_boiler_id'], columns='poll', values='ann_value').reset_index()\n",
    "nei = nei.rename(columns = {'oris_facility_code': 'CAMD_PLANT_ID', 'oris_boiler_id': 'CAMD_UNIT_ID'})\n",
    "\n"
   ]
  },
  {
   "cell_type": "code",
   "execution_count": 152,
   "metadata": {},
   "outputs": [
    {
     "name": "stderr",
     "output_type": "stream",
     "text": [
      "C:\\Users\\lbeatty\\AppData\\Local\\Temp\\ipykernel_9200\\3096755666.py:7: SettingWithCopyWarning: \n",
      "A value is trying to be set on a copy of a slice from a DataFrame.\n",
      "Try using .loc[row_indexer,col_indexer] = value instead\n",
      "\n",
      "See the caveats in the documentation: https://pandas.pydata.org/pandas-docs/stable/user_guide/indexing.html#returning-a-view-versus-a-copy\n",
      "  existing_gen_units_2040['plant_id_eia']=existing_gen_units_2040['plant_id_eia'].astype(int)\n",
      "C:\\Users\\lbeatty\\AppData\\Local\\Temp\\ipykernel_9200\\3096755666.py:8: SettingWithCopyWarning: \n",
      "A value is trying to be set on a copy of a slice from a DataFrame.\n",
      "Try using .loc[row_indexer,col_indexer] = value instead\n",
      "\n",
      "See the caveats in the documentation: https://pandas.pydata.org/pandas-docs/stable/user_guide/indexing.html#returning-a-view-versus-a-copy\n",
      "  existing_gen_units_2050['plant_id_eia']=existing_gen_units_2050['plant_id_eia'].astype(int)\n",
      "C:\\Users\\lbeatty\\AppData\\Local\\Temp\\ipykernel_9200\\3096755666.py:11: SettingWithCopyWarning: \n",
      "A value is trying to be set on a copy of a slice from a DataFrame.\n",
      "Try using .loc[row_indexer,col_indexer] = value instead\n",
      "\n",
      "See the caveats in the documentation: https://pandas.pydata.org/pandas-docs/stable/user_guide/indexing.html#returning-a-view-versus-a-copy\n",
      "  existing_gen_units_2040['generator_id']=existing_gen_units_2040['generator_id'].astype(str)\n",
      "C:\\Users\\lbeatty\\AppData\\Local\\Temp\\ipykernel_9200\\3096755666.py:12: SettingWithCopyWarning: \n",
      "A value is trying to be set on a copy of a slice from a DataFrame.\n",
      "Try using .loc[row_indexer,col_indexer] = value instead\n",
      "\n",
      "See the caveats in the documentation: https://pandas.pydata.org/pandas-docs/stable/user_guide/indexing.html#returning-a-view-versus-a-copy\n",
      "  existing_gen_units_2050['generator_id']=existing_gen_units_2050['generator_id'].astype(str)\n",
      "C:\\Users\\lbeatty\\AppData\\Local\\Temp\\ipykernel_9200\\3096755666.py:15: SettingWithCopyWarning: \n",
      "A value is trying to be set on a copy of a slice from a DataFrame.\n",
      "Try using .loc[row_indexer,col_indexer] = value instead\n",
      "\n",
      "See the caveats in the documentation: https://pandas.pydata.org/pandas-docs/stable/user_guide/indexing.html#returning-a-view-versus-a-copy\n",
      "  existing_gen_units_2040['planning_year']=2040\n",
      "C:\\Users\\lbeatty\\AppData\\Local\\Temp\\ipykernel_9200\\3096755666.py:16: SettingWithCopyWarning: \n",
      "A value is trying to be set on a copy of a slice from a DataFrame.\n",
      "Try using .loc[row_indexer,col_indexer] = value instead\n",
      "\n",
      "See the caveats in the documentation: https://pandas.pydata.org/pandas-docs/stable/user_guide/indexing.html#returning-a-view-versus-a-copy\n",
      "  existing_gen_units_2050['planning_year']=2050\n"
     ]
    }
   ],
   "source": [
    "#####################\n",
    "## Format columns ###\n",
    "#####################\n",
    "\n",
    "# existing_gen_units\n",
    "existing_gen_units_2030['plant_id_eia']=existing_gen_units_2030['plant_id_eia'].astype(int)\n",
    "existing_gen_units_2040['plant_id_eia']=existing_gen_units_2040['plant_id_eia'].astype(int)\n",
    "existing_gen_units_2050['plant_id_eia']=existing_gen_units_2050['plant_id_eia'].astype(int)\n",
    "\n",
    "existing_gen_units_2030['generator_id']=existing_gen_units_2030['generator_id'].astype(str)\n",
    "existing_gen_units_2040['generator_id']=existing_gen_units_2040['generator_id'].astype(str)\n",
    "existing_gen_units_2050['generator_id']=existing_gen_units_2050['generator_id'].astype(str)\n",
    "\n",
    "existing_gen_units_2030['planning_year']=2030\n",
    "existing_gen_units_2040['planning_year']=2040\n",
    "existing_gen_units_2050['planning_year']=2050\n",
    "\n",
    "#bind all into one\n",
    "existing_gen_units = pd.concat([existing_gen_units_2030, existing_gen_units_2040, existing_gen_units_2050])\n",
    "existing_gen_units = existing_gen_units.rename(columns={'generator_id': 'EIA_GENERATOR_ID', 'plant_id_eia':'EIA_PLANT_ID'})\n",
    "\n",
    "## EPA-EIA crosswalk\n",
    "crosswalk = crosswalk[['CAMD_PLANT_ID', 'CAMD_UNIT_ID', 'CAMD_GENERATOR_ID', 'EIA_PLANT_ID', 'EIA_GENERATOR_ID', 'EIA_UNIT_TYPE']]\n",
    "crosswalk['EIA_GENERATOR_ID'] = crosswalk['EIA_GENERATOR_ID'].astype(str)\n",
    "\n",
    "##############\n",
    "## EIA Data###\n",
    "##############\n",
    "\n",
    "# filter out AK and HI\n",
    "eia860 = eia860[~eia860['State'].isin(['HI', 'AK'])]\n",
    "eia923_fuels = eia923_fuels[~eia923_fuels['Plant State'].isin(['HI', 'AK'])]\n",
    "eia923_generators = eia923_generators[~eia923_generators['Plant State'].isin(['HI', 'AK'])]\n",
    "\n",
    "\n",
    "#rename columns and change formats\n",
    "eia860 = eia860[['Plant Code', 'Generator ID', 'Nameplate Capacity (MW)', 'Planned Retirement Year', 'Planned Retirement Month', 'Synchronized to Transmission Grid', 'Technology']]\n",
    "eia860.columns = ['EIA_PLANT_ID', 'EIA_GENERATOR_ID', 'Capacity', 'RetirementYear', 'RetirementMonth', 'SynchronizedToGrid', 'Technology']\n",
    "eia860['EIA_GENERATOR_ID']=eia860['EIA_GENERATOR_ID'].astype(str)\n",
    "\n",
    "eia923_fuels = eia923_fuels[['Plant Id', 'Plant Name', 'Plant State', 'Net Generation\\n(Megawatthours)']]\n",
    "eia923_fuels.columns = ['EIA_PLANT_ID', 'EIA_PLANT_NAME', 'EIA_STATE', 'NET_GEN_PLANT']\n",
    "eia923_fuels = eia923_fuels.groupby('EIA_PLANT_ID').agg({'NET_GEN_PLANT': 'sum'}).reset_index()\n",
    "\n",
    "eia923_generators = eia923_generators[['Plant Id', 'Generator Id', 'Net Generation\\nYear To Date']]\n",
    "eia923_generators.columns = ['EIA_PLANT_ID', 'EIA_GENERATOR_ID', 'NET_GEN_GENERATOR']\n",
    "eia923_generators['EIA_GENERATOR_ID'] = eia923_generators['EIA_GENERATOR_ID'].astype(str)\n",
    "\n",
    "##############\n",
    "##EPA data####\n",
    "##############\n",
    "pm25['UNITID'] = pm25['UNITID'].astype(str)\n",
    "pm25 = pm25.groupby(['ORISPL', 'UNITID']).agg({'PM25AN': 'sum'}).reset_index()\n",
    "pm25.columns = ['facilityId', 'unitId', 'pm25']\n",
    "pm25['unitId']=pm25['unitId'].astype(str)\n",
    "pm25['facilityId']=pm25['facilityId'].astype(int)\n",
    "\n",
    "emissions['unitId']=emissions['unitId'].astype(str)\n",
    "emissions['facilityId']=emissions['facilityId'].astype(int)\n",
    "\n",
    "emissions = pd.merge(emissions, pm25, on=['facilityId', 'unitId'], how='left')\n",
    "emissions['nox_tons'] = emissions['noxMass']\n",
    "emissions['so2_tons'] = emissions['so2Mass']\n",
    "emissions['pm25_tons'] = emissions['pm25']\n",
    "\n",
    "#rename columns\n",
    "emissions = emissions.rename(columns = {'facilityId': 'CAMD_PLANT_ID', 'unitId': 'CAMD_UNIT_ID'})"
   ]
  },
  {
   "cell_type": "markdown",
   "metadata": {},
   "source": [
    "## 2. Merge EIA and EPA data into existing_gen_units using the EPA-EIA crosswalk"
   ]
  },
  {
   "cell_type": "code",
   "execution_count": 153,
   "metadata": {},
   "outputs": [],
   "source": [
    "#join existing_gen_units with crosswalk\n",
    "existing_gen_units = pd.merge(existing_gen_units, crosswalk, on=['EIA_GENERATOR_ID', 'EIA_PLANT_ID'],how='left')\n",
    "\n",
    "#in existing_gen_units, there's a fair amount of missing capacities that are available from eia data so I'm going to join in \n",
    "#eia860 and then fill in nans\n",
    "existing_gen_units = pd.merge(existing_gen_units, eia860[['EIA_GENERATOR_ID', 'EIA_PLANT_ID', 'Capacity']], on=['EIA_GENERATOR_ID', 'EIA_PLANT_ID'], how='left')\n",
    "\n",
    "#need net gen\n",
    "existing_gen_units = pd.merge(existing_gen_units, eia923_fuels, on=['EIA_PLANT_ID'], how='left')\n",
    "existing_gen_units = pd.merge(existing_gen_units, eia923_generators, on=['EIA_PLANT_ID', 'EIA_GENERATOR_ID'], how='left')\n",
    "\n",
    "#lastly, need emissions\n",
    "existing_gen_units = pd.merge(existing_gen_units, emissions, on=['CAMD_PLANT_ID', 'CAMD_UNIT_ID'], how='left')\n",
    "\n",
    "#nei emissions\n",
    "existing_gen_units = pd.merge(existing_gen_units, nei, on=['CAMD_PLANT_ID', 'CAMD_UNIT_ID'], how='left')\n"
   ]
  },
  {
   "cell_type": "code",
   "execution_count": 154,
   "metadata": {},
   "outputs": [],
   "source": [
    "#fill in missing capacities\n",
    "existing_gen_units['capacity_mw']=existing_gen_units['capacity_mw'].combine_first(existing_gen_units['Capacity'])"
   ]
  },
  {
   "cell_type": "markdown",
   "metadata": {},
   "source": [
    "## 3. Impute generation for generators with missing generation.  To do this, I take plant-level generation and distribute that generation to generators based on each generator's capacity.\n",
    "\n",
    "I'm going to calculate plant-level 'missing generation'\n",
    "Then divy up the missing generation to generators according to capacity in MW"
   ]
  },
  {
   "cell_type": "code",
   "execution_count": 155,
   "metadata": {},
   "outputs": [],
   "source": [
    "summed_plant_gen = existing_gen_units.groupby(['EIA_PLANT_ID', 'planning_year']).agg({'NET_GEN_GENERATOR': 'sum'}).reset_index()\n",
    "summed_plant_gen.columns=['EIA_PLANT_ID', 'planning_year', 'sum_generator_gen']\n",
    "\n",
    "existing_gen_units = pd.merge(existing_gen_units, summed_plant_gen, on=['EIA_PLANT_ID', 'planning_year'], how='left')\n",
    "\n",
    "existing_gen_units['missing_generator_generation']=existing_gen_units['NET_GEN_GENERATOR'].isna().astype(int)\n",
    "existing_gen_units['missing_generation'] = existing_gen_units['NET_GEN_PLANT'] - existing_gen_units['sum_generator_gen']\n"
   ]
  },
  {
   "cell_type": "code",
   "execution_count": 156,
   "metadata": {},
   "outputs": [],
   "source": [
    "missing_generators = existing_gen_units.query('missing_generator_generation==1').\\\n",
    "    groupby(['EIA_PLANT_ID', 'planning_year']).\\\n",
    "    agg({'capacity_mw': 'sum'}).\\\n",
    "    reset_index()\n",
    "missing_generators.columns=['EIA_PLANT_ID', 'planning_year', 'missing_generator_capacity']\n",
    "\n",
    "existing_gen_units = pd.merge(existing_gen_units, missing_generators, on=['EIA_PLANT_ID', 'planning_year'], how='left')"
   ]
  },
  {
   "cell_type": "code",
   "execution_count": 157,
   "metadata": {},
   "outputs": [],
   "source": [
    "## Make imputation\n",
    "\n",
    "existing_gen_units['pct_missing_capacity'] = (existing_gen_units['capacity_mw']/existing_gen_units['missing_generator_capacity'])*existing_gen_units['missing_generator_generation']\n",
    "existing_gen_units['imputed_net_gen'] = existing_gen_units['pct_missing_capacity']*existing_gen_units['missing_generation']\n",
    "\n",
    "\n",
    "#replace missings with imputed\n",
    "existing_gen_units['NET_GEN_GENERATOR'] = existing_gen_units['NET_GEN_GENERATOR'].combine_first(existing_gen_units['imputed_net_gen'])"
   ]
  },
  {
   "cell_type": "markdown",
   "metadata": {},
   "source": [
    "## 4. Calculate generation-weighted average emissions rates, then use those to fill in generators with missing emissions rates.\n"
   ]
  },
  {
   "cell_type": "code",
   "execution_count": 158,
   "metadata": {},
   "outputs": [],
   "source": [
    "#looks like there's broad agreement between camd and nei\n",
    "#fill in missing camd data with nei data\n",
    "\n",
    "existing_gen_units['nox_tons'] = existing_gen_units['nox_tons'].combine_first(existing_gen_units['NOX_nei_tons'])\n",
    "existing_gen_units['so2_tons'] = existing_gen_units['so2_tons'].combine_first(existing_gen_units['SO2_nei_tons'])\n",
    "existing_gen_units['pm25_tons'] = existing_gen_units['pm25_tons'].combine_first(existing_gen_units['PM25-PRI_nei_tons'])\n",
    "\n",
    "#get rates\n",
    "existing_gen_units['nox_rate'] = existing_gen_units['nox_tons']/existing_gen_units['NET_GEN_GENERATOR']\n",
    "existing_gen_units['so2_rate'] = existing_gen_units['so2_tons']/existing_gen_units['NET_GEN_GENERATOR']\n",
    "existing_gen_units['pm25_rate'] = existing_gen_units['pm25_tons']/existing_gen_units['NET_GEN_GENERATOR']\n",
    "existing_gen_units['nh3_rate'] = existing_gen_units['NH3_nei_tons']/existing_gen_units['NET_GEN_GENERATOR']\n",
    "existing_gen_units['voc_rate'] = existing_gen_units['VOC_nei_tons']/existing_gen_units['NET_GEN_GENERATOR']\n",
    "\n",
    "\n",
    "\n",
    "#for now I'm going to omit units with negative net_gen since it doesn't make sense for them to have negative 'rates'\n",
    "#I'll replace the rates with sample weighted-means\n",
    "existing_gen_units.loc[existing_gen_units['nox_rate']<0, 'nox_rate']=np.nan\n",
    "existing_gen_units.loc[existing_gen_units['pm25_rate']<0, 'pm25_rate']=np.nan\n",
    "existing_gen_units.loc[existing_gen_units['so2_rate']<0, 'so2_rate']=np.nan\n",
    "existing_gen_units.loc[existing_gen_units['nh3_rate']<0, 'nh3_rate']=np.nan\n",
    "existing_gen_units.loc[existing_gen_units['voc_rate']<0, 'voc_rate']=np.nan\n",
    "\n",
    "existing_gen_units.loc[existing_gen_units['nox_rate'].isin([np.inf]), 'nox_rate']=np.nan\n",
    "existing_gen_units.loc[existing_gen_units['pm25_rate'].isin([np.inf]), 'pm25_rate']=np.nan\n",
    "existing_gen_units.loc[existing_gen_units['so2_rate'].isin([np.inf]), 'so2_rate']=np.nan\n",
    "existing_gen_units.loc[existing_gen_units['nh3_rate'].isin([np.inf]), 'nh3_rate']=np.nan\n",
    "existing_gen_units.loc[existing_gen_units['voc_rate'].isin([np.inf]), 'voc_rate']=np.nan"
   ]
  },
  {
   "cell_type": "code",
   "execution_count": 159,
   "metadata": {},
   "outputs": [],
   "source": [
    "############\n",
    "## Calculate weighted average emissions rates by technology-planning year\n",
    "\n",
    "# Define a function to calculate weighted average handling NaN values\n",
    "\n",
    "def weighted_average(df):\n",
    "    weighted_avgs = {}\n",
    "    for col in df.columns:\n",
    "        if '_rate' in col:  # Consider columns containing '_rate'\n",
    "            df_valid = df.dropna(subset=[col, 'NET_GEN_GENERATOR'])\n",
    "            if len(df_valid) == 0 or df_valid['NET_GEN_GENERATOR'].sum() == 0:\n",
    "                weighted_avgs[col] = np.nan  # Return NaN if all weights in the group are zero\n",
    "            else:\n",
    "                weighted_avgs[col] = np.average(df_valid[col], weights=df_valid['NET_GEN_GENERATOR'])\n",
    "    return pd.Series(weighted_avgs)\n",
    "\n",
    "technology_rates = existing_gen_units.groupby(['technology', 'planning_year']).apply(weighted_average).reset_index()\n"
   ]
  },
  {
   "cell_type": "code",
   "execution_count": 160,
   "metadata": {},
   "outputs": [],
   "source": [
    "#Ok last thing to do is fill in missings\n",
    "\n",
    "technology_rates = technology_rates[['technology', 'planning_year', 'nox_rate', 'pm25_rate', 'so2_rate', 'voc_rate', 'nh3_rate']]\n",
    "technology_rates.columns = ['technology', 'planning_year', 'noxrate_imputed', 'pm25rate_imputed', 'so2rate_imputed', 'vocrate_imputed', 'nh3rate_imputed']\n",
    "\n",
    "existing_gen_units = pd.merge(existing_gen_units, technology_rates, on=['technology', 'planning_year'], how='left')"
   ]
  },
  {
   "cell_type": "code",
   "execution_count": 161,
   "metadata": {},
   "outputs": [],
   "source": [
    "existing_gen_units['noxrate_imputed'] = existing_gen_units['nox_rate'].combine_first(existing_gen_units['noxrate_imputed'])\n",
    "existing_gen_units['so2rate_imputed'] = existing_gen_units['so2_rate'].combine_first(existing_gen_units['so2rate_imputed'])\n",
    "existing_gen_units['pm25rate_imputed'] = existing_gen_units['pm25_rate'].combine_first(existing_gen_units['pm25rate_imputed'])\n",
    "existing_gen_units['vocrate_imputed'] = existing_gen_units['voc_rate'].combine_first(existing_gen_units['vocrate_imputed'])\n",
    "existing_gen_units['nh3rate_imputed'] = existing_gen_units['nh3_rate'].combine_first(existing_gen_units['nh3rate_imputed'])"
   ]
  },
  {
   "cell_type": "code",
   "execution_count": 162,
   "metadata": {},
   "outputs": [
    {
     "name": "stdout",
     "output_type": "stream",
     "text": [
      "nox_tons        764117.084000\n",
      "pm25_tons        88446.692134\n",
      "so2_tons        808305.497843\n",
      "NH3_nei_tons     18829.463402\n",
      "VOC_nei_tons     20387.986583\n",
      "dtype: float64\n",
      "nox_predicted     787127.484352\n",
      "so2_predicted     742088.506697\n",
      "pm25_predicted    100743.871080\n",
      "voc_predicted      24143.026328\n",
      "nh3_predicted      34291.854018\n",
      "dtype: float64\n"
     ]
    }
   ],
   "source": [
    "###############\n",
    "## Little detour here to calculate year 2020 emissions\n",
    "##This will serve as a gut-check and I'll output it so that in the results you can see the decline from 2020 --> 2030\n",
    "## First I'll just take nei and camd data and sum it.\n",
    "## Then I'll take observed net gen and multiply it by my imputed emissions rates\n",
    "## Hopefully emissions will be close\n",
    "\n",
    "reported_emissions_2020 = pd.merge(emissions, nei, how='outer', on=['CAMD_UNIT_ID', 'CAMD_PLANT_ID']).reset_index()\n",
    "reported_emissions_2020['nox_tons'] = reported_emissions_2020['nox_tons'].combine_first(existing_gen_units['NOX_nei_tons'])\n",
    "reported_emissions_2020['pm25_tons'] = reported_emissions_2020['pm25_tons'].combine_first(existing_gen_units['PM25-PRI_nei_tons'])\n",
    "reported_emissions_2020['so2_tons'] = reported_emissions_2020['so2_tons'].combine_first(existing_gen_units['SO2_nei_tons'])\n",
    "print(reported_emissions_2020[['nox_tons', 'pm25_tons', 'so2_tons', 'NH3_nei_tons', 'VOC_nei_tons']].sum())\n",
    "\n",
    "test_emissions_2020 = pd.merge(eia860[['EIA_GENERATOR_ID', 'EIA_PLANT_ID', 'Capacity', 'Technology']], eia923_generators, on=['EIA_GENERATOR_ID', 'EIA_PLANT_ID'], how='left')\n",
    "test_emissions_2020 = pd.merge(test_emissions_2020, eia923_fuels, on=['EIA_PLANT_ID'])\n",
    "pct_capacity_2020 = test_emissions_2020.groupby(['EIA_PLANT_ID']).agg({'Capacity':'sum'}).reset_index()\n",
    "pct_capacity_2020 = pct_capacity_2020.rename(columns={'Capacity':'sum_plant_capacity'})\n",
    "test_emissions_2020 = pd.merge(test_emissions_2020, pct_capacity_2020, how='left', on='EIA_PLANT_ID')\n",
    "test_emissions_2020['pct_capacity'] = test_emissions_2020['Capacity']/test_emissions_2020['sum_plant_capacity']\n",
    "test_emissions_2020['predicted_gen']=test_emissions_2020['pct_capacity']*test_emissions_2020['NET_GEN_PLANT']\n",
    "\n",
    "test_emissions_2020 = test_emissions_2020.rename(columns={'Technology':'technology'})\n",
    "test_emissions_2020 = pd.merge(test_emissions_2020, technology_rates[technology_rates['planning_year']==2030], how='left', on=['technology'])\n",
    "\n",
    "#replace the few negative net gens with zero\n",
    "test_emissions_2020.loc[test_emissions_2020['predicted_gen']<0, 'predicted_gen']=0\n",
    "test_emissions_2020 = test_emissions_2020[test_emissions_2020['predicted_gen']>0]\n",
    "\n",
    "test_emissions_2020['nox_predicted']=test_emissions_2020['predicted_gen']*test_emissions_2020['noxrate_imputed']\n",
    "test_emissions_2020['so2_predicted']=test_emissions_2020['predicted_gen']*test_emissions_2020['so2rate_imputed']\n",
    "test_emissions_2020['pm25_predicted']=test_emissions_2020['predicted_gen']*test_emissions_2020['pm25rate_imputed']\n",
    "test_emissions_2020['voc_predicted']=test_emissions_2020['predicted_gen']*test_emissions_2020['vocrate_imputed']\n",
    "test_emissions_2020['nh3_predicted']=test_emissions_2020['predicted_gen']*test_emissions_2020['nh3rate_imputed']\n",
    "\n",
    "\n",
    "test_emissions_2020 = test_emissions_2020[(test_emissions_2020['nox_predicted'] != 0) | (test_emissions_2020['so2_predicted'] != 0) | (test_emissions_2020['pm25_predicted'] != 0) | (test_emissions_2020['voc_predicted'] != 0) | (test_emissions_2020['nh3_predicted'] != 0)]\n",
    "#drop if all predicted emissions are 0\n",
    "print(test_emissions_2020[['nox_predicted', 'so2_predicted', 'pm25_predicted', 'voc_predicted', 'nh3_predicted']].sum())\n",
    "\n",
    "#looks pretty close to me\n",
    "#test_emissions_2020 is actually what I'm going to bind into emissions and analyze in InMap\n"
   ]
  },
  {
   "cell_type": "markdown",
   "metadata": {},
   "source": [
    "## 5. Calculate aggregate emissions by multiplying rates by model-output specified generation.  As mentioned earlier, I calculate generator level generation either by calculating a generator's share of total capacity or net generation for that cluster-planningyear.\n",
    "\n",
    "Start by specifying which model, scenario, and column you want outputs for."
   ]
  },
  {
   "cell_type": "code",
   "execution_count": 163,
   "metadata": {},
   "outputs": [],
   "source": [
    "#model = 'SWITCH'\n",
    "#model = 'TEMOA'\n",
    "model = 'GenX'\n",
    "#model = 'USENSYS'\n",
    "\n",
    "\n",
    "# scenario = '26z-thin-debug'\n",
    "# scenario = '26z-debug-noCO2Cap'\n",
    "# scenario = '26z-short-current-policies'\n",
    "# scenario = '26z-short-base-50'\n",
    "#scenario = '26z-short-base-200'\n",
    "# scenario = '26z-short-no-ccs'\n",
    "\n",
    "# column = 'NET_GEN_GENERATOR'\n",
    "column = 'capacity_mw'\n"
   ]
  },
  {
   "cell_type": "code",
   "execution_count": 164,
   "metadata": {},
   "outputs": [],
   "source": [
    "generation = pd.read_csv(\"MIP_results_comparison/\"+scenario+\"/\"+model+\"_results_summary/generation.csv\")\n",
    "generator_inputs = pd.read_csv(\"MIP_results_comparison/\"+scenario+'/'+model+'_op_inputs/Inputs/Inputs_p1/Generators_data.csv')\n",
    "\n",
    "#Also need capacity to allocate new generation/capacity to brownfield nat gas sites\n",
    "capacity = pd.read_csv(\"MIP_results_comparison/\"+scenario+\"/\"+model+\"_results_summary/resource_capacity.csv\")\n",
    "capacity.columns = capacity.columns.map(lambda x: x.lower())\n",
    "capacity = capacity[capacity['unit']=='MW']\n",
    "\n",
    "capacity = capacity.groupby(['zone', 'resource_name', 'tech_type', 'planning_year']).agg({'start_value': 'sum', 'end_value': 'sum'}).reset_index()\n",
    "\n",
    "\n",
    "#want total sum of existing gen capacity or netgen by planning period to allocate generation\n",
    "technology_year_total = existing_gen_units.groupby(['Resource', 'planning_year']).agg({column : 'sum'}).reset_index()\n",
    "technology_year_total.columns = ['Resource', 'planning_year', 'technology_total']\n",
    "\n",
    "#merge in total capacity or total net gen\n",
    "existing_gen_units = pd.merge(existing_gen_units, technology_year_total, on=['Resource', 'planning_year'], how='left')\n",
    "\n",
    "#merge in model generation\n",
    "generation = generation.rename(columns={'resource_name':'Resource'})\n",
    "existing_gen_units = pd.merge(existing_gen_units, generation, on=['Resource', 'planning_year'], how='left')\n"
   ]
  },
  {
   "cell_type": "code",
   "execution_count": 165,
   "metadata": {},
   "outputs": [],
   "source": [
    "#add in new gen\n",
    "newgeneration = generation[generation['Resource'].str.contains('naturalgas', na=False)]\n",
    "\n",
    "###################################################\n",
    "## Throw an error if there's new coal/biomass #####\n",
    "###################################################\n",
    "def check_value(value):\n",
    "    if value > 0:\n",
    "        raise ValueError(\"New coal/biomass capacity added.  Newgeneration code is only valid for new nat gas.\")\n",
    "\n",
    "#check that new capacity goes down for coal/biomass\n",
    "capacity.sort_values(by='planning_year', inplace=True)\n",
    "capacity['lag_capacity'] = capacity.groupby('resource_name')['end_value'].shift()\n",
    "max_capacity_change = capacity[capacity['tech_type'].isin(['Coal', 'Biomass'])]\n",
    "max_capacity_change = max_capacity_change.dropna(subset=['lag_capacity'])\n",
    "max_capacity_change['dif']=max_capacity_change['end_value']-max_capacity_change['lag_capacity']\n",
    "max_capacity_change = max_capacity_change['dif'].max()\n",
    "\n",
    "try:\n",
    "    check_value(max_capacity_change)\n",
    "except ValueError as e:\n",
    "    print(f\"Error: {e}\")\n",
    "\n",
    "#ok now save new capacity for natural gas -- really the only thing we care about\n",
    "capacity = capacity[capacity['resource_name'].str.contains('_naturalgas')]\n",
    "capacity.loc[capacity['resource_name'].str.contains('_ccavg'), 'technology']= 'Natural Gas Fired Combined Cycle'\n",
    "capacity.loc[capacity['resource_name'].str.contains('_ctavg'), 'technology']= 'Natural Gas Fired Combustion Turbine'\n",
    "\n"
   ]
  },
  {
   "cell_type": "code",
   "execution_count": 166,
   "metadata": {},
   "outputs": [],
   "source": [
    "existing_gen_units['pct_total']=existing_gen_units[column]/existing_gen_units['technology_total']\n",
    "existing_gen_units['predicted_gen']=existing_gen_units['value']*existing_gen_units['pct_total']\n",
    "\n",
    "existing_gen_units['nox_predicted']=existing_gen_units['predicted_gen']*existing_gen_units['noxrate_imputed']\n",
    "existing_gen_units['so2_predicted']=existing_gen_units['predicted_gen']*existing_gen_units['so2rate_imputed']\n",
    "existing_gen_units['pm25_predicted']=existing_gen_units['predicted_gen']*existing_gen_units['pm25rate_imputed']\n",
    "existing_gen_units['voc_predicted']=existing_gen_units['predicted_gen']*existing_gen_units['vocrate_imputed']\n",
    "existing_gen_units['nh3_predicted']=existing_gen_units['predicted_gen']*existing_gen_units['nh3rate_imputed']\n"
   ]
  },
  {
   "cell_type": "code",
   "execution_count": 167,
   "metadata": {},
   "outputs": [],
   "source": [
    "#merge in plant locations\n",
    "plants = pd.read_excel('Data/eia860/2___Plant_Y2017.xlsx', skiprows=1)\n",
    "plants = plants[['Plant Code', 'Longitude', 'Latitude']]\n",
    "plants.columns = ['EIA_PLANT_ID', 'Longitude', 'Latitude']\n",
    "\n",
    "existing_gen_units = pd.merge(existing_gen_units, plants, on=['EIA_PLANT_ID'], how='left')\n",
    "test_emissions_2020 = pd.merge(test_emissions_2020, plants, on=['EIA_PLANT_ID'])"
   ]
  },
  {
   "cell_type": "markdown",
   "metadata": {},
   "source": [
    "### Now think about emissions from new sources\n",
    "All new natural gas plants show up in generation files with technology as '_naturalgas_' verus '_natural_gas'\n",
    "Challenge here is to determine how much they emit, and *where*\n",
    "\n",
    "First I make some plots that show that for most pollutants, emissions per unit of energy have gone down a lot in the past thirty years, but that progress really started petering out between 5-10 years ago.  Therefore, I'm going to take technology averages **for the last five years (2016-2020)**\n",
    "\n",
    "Then what about where?  I'm going to track which plants retire.  First, I'm going to distribute new capacity to retired plants, making sure to not exceed the retired plant capacity.  Then any remaining capacity will be sent out to existing locations proportionally to capacity.\n",
    "\n",
    "Once new capacity has been divided among retired/existing sites, I'll distribute generation by weighting by capacity."
   ]
  },
  {
   "cell_type": "code",
   "execution_count": 168,
   "metadata": {},
   "outputs": [
    {
     "data": {
      "image/png": "[encoded data removed]",
      "text/plain": [
       "<Figure size 640x480 with 1 Axes>"
      ]
     },
     "metadata": {},
     "output_type": "display_data"
    },
    {
     "data": {
      "image/png": "[encoded data removed]",
      "text/plain": [
       "<Figure size 640x480 with 1 Axes>"
      ]
     },
     "metadata": {},
     "output_type": "display_data"
    },
    {
     "data": {
      "image/png": "[encoded data removed]",
      "text/plain": [
       "<Figure size 640x480 with 1 Axes>"
      ]
     },
     "metadata": {},
     "output_type": "display_data"
    },
    {
     "data": {
      "image/png": "[encoded data removed]",
      "text/plain": [
       "<Figure size 640x480 with 1 Axes>"
      ]
     },
     "metadata": {},
     "output_type": "display_data"
    },
    {
     "data": {
      "image/png": "[encoded data removed]",
      "text/plain": [
       "<Figure size 640x480 with 1 Axes>"
      ]
     },
     "metadata": {},
     "output_type": "display_data"
    }
   ],
   "source": [
    "## what rates should we assign to new sources?\n",
    "## Investigate with some plots\n",
    "\n",
    "existing_gen_units['operating_date']=pd.to_datetime(existing_gen_units['operating_date'])\n",
    "\n",
    "\n",
    "plt.scatter(existing_gen_units.query('energy_source_code_1==\"NG\"')['operating_date'], existing_gen_units.query('energy_source_code_1==\"NG\"')['pm25_rate'])\n",
    "plt.ylim(0, 8)\n",
    "plt.xlim(pd.to_datetime('1990-01-01'),pd.to_datetime('2020-01-01'))\n",
    "plt.xlabel('Operating Date')\n",
    "plt.ylabel('PM2.5 Rate (lbs/MWh)')\n",
    "plt.title('PM2.5 Rate vs Operating Date')\n",
    "plt.savefig(\"MIP_AirPollution/Figures/PollutionRatePlots/pm25rate_operatingyear.jpg\", dpi=300)\n",
    "plt.show()\n",
    "\n",
    "plt.scatter(existing_gen_units.query('energy_source_code_1==\"NG\"')['operating_date'], existing_gen_units.query('energy_source_code_1==\"NG\"')['nox_rate'])\n",
    "plt.ylim(0, 90)\n",
    "plt.xlim(pd.to_datetime('1990-01-01'),pd.to_datetime('2020-01-01'))\n",
    "plt.xlabel('Operating Date')\n",
    "plt.ylabel('NOx Rate (lbs/MWh)')\n",
    "plt.title('NOx Rate vs Operating Date')\n",
    "plt.savefig(\"MIP_AirPollution/Figures/PollutionRatePlots/noxrate_operatingyear.jpg\", dpi=300)\n",
    "plt.show()\n",
    "\n",
    "plt.scatter(existing_gen_units.query('energy_source_code_1==\"NG\"')['operating_date'], existing_gen_units.query('energy_source_code_1==\"NG\"')['so2_rate'])\n",
    "plt.ylim(0, 2)\n",
    "plt.xlim(pd.to_datetime('1990-01-01'),pd.to_datetime('2020-01-01'))\n",
    "plt.xlabel('Operating Date')\n",
    "plt.ylabel('SO2 Rate (lbs/MWh)')\n",
    "plt.title('SO2 Rate vs Operating Date')\n",
    "plt.savefig(\"MIP_AirPollution/Figures/PollutionRatePlots/so2rate_operatingyear.jpg\", dpi=300)\n",
    "plt.show()\n",
    "\n",
    "plt.scatter(existing_gen_units.query('energy_source_code_1==\"NG\"')['operating_date'], existing_gen_units.query('energy_source_code_1==\"NG\"')['voc_rate'])\n",
    "plt.ylim(0, 2)\n",
    "plt.xlim(pd.to_datetime('1990-01-01'),pd.to_datetime('2020-01-01'))\n",
    "plt.xlabel('Operating Date')\n",
    "plt.ylabel('VOC Rate (lbs/MWh)')\n",
    "plt.title('VOC Rate vs Operating Date')\n",
    "plt.savefig(\"MIP_AirPollution/Figures/PollutionRatePlots/VOCrate_operatingyear.jpg\", dpi=300)\n",
    "plt.show()\n",
    "\n",
    "plt.scatter(existing_gen_units.query('energy_source_code_1==\"NG\"')['operating_date'], existing_gen_units.query('energy_source_code_1==\"NG\"')['nh3_rate'])\n",
    "plt.ylim(0, .05)\n",
    "plt.xlim(pd.to_datetime('1990-01-01'),pd.to_datetime('2020-01-01'))\n",
    "plt.xlabel('Operating Date')\n",
    "plt.ylabel('nh3 Rate (lbs/MWh)')\n",
    "plt.title('nh3 Rate vs Operating Date')\n",
    "plt.savefig(\"MIP_AirPollution/Figures/PollutionRatePlots/nh3rate_operatingyear.jpg\", dpi=300)\n",
    "plt.show()\n"
   ]
  },
  {
   "cell_type": "code",
   "execution_count": 169,
   "metadata": {},
   "outputs": [],
   "source": [
    "## Calculate emissions rates for new sources\n",
    "technology_rates_newsources = existing_gen_units[existing_gen_units['operating_date']>=pd.to_datetime('2016-01-01')].groupby(['technology', 'planning_year']).apply(weighted_average).reset_index()\n",
    "\n",
    "\n",
    "if 'no-ccs' not in scenario:\n",
    "    generator_inputs = pd.read_csv(\"MIP_results_comparison/\"+scenario+'/'+model+'_op_inputs/Inputs/Inputs_p1/Generators_data.csv')\n",
    "    ### \n",
    "    #Add in CCS\n",
    "    # Not sure where to draw heat rates from exactly.  It looks like all new NGCT has heat rate of 6.36 and all new CCCCS has heat rate of 7.16\n",
    "    #I'll take this from an inputs file but this will break if naturalgas_ccavg or naturalgas_ccccsavg are associated with more than one heat rate\n",
    "    appendrows = technology_rates_newsources[technology_rates_newsources['technology']=='Natural Gas Fired Combined Cycle']\n",
    "    appendrows['technology'] = 'Natural Gas Fired Combined Cycle With CCS'\n",
    "    generator_inputs = generator_inputs[generator_inputs['Resource'].str.contains('naturalgas_cc')]\n",
    "    generator_inputs = generator_inputs[['technology', 'Heat_Rate_MMBTU_per_MWh']].drop_duplicates()\n",
    "\n",
    "    ccspenalty = float(generator_inputs[generator_inputs['technology'].str.contains('CCCCSAvg')].loc[:,'Heat_Rate_MMBTU_per_MWh'])/float(generator_inputs[generator_inputs['technology'].str.contains('CCAvg')].loc[:,'Heat_Rate_MMBTU_per_MWh'])\n",
    "\n",
    "    ratecolumns=['nox_rate', 'so2_rate', 'pm25_rate', 'nh3_rate', 'voc_rate']\n",
    "    appendrows[ratecolumns]=appendrows[ratecolumns].apply(lambda x: x * ccspenalty)\n",
    "    technology_rates_newsources = pd.concat([technology_rates_newsources, appendrows])\n"
   ]
  },
  {
   "cell_type": "code",
   "execution_count": 170,
   "metadata": {},
   "outputs": [
    {
     "name": "stderr",
     "output_type": "stream",
     "text": [
      "C:\\Users\\lbeatty\\AppData\\Local\\Temp\\ipykernel_9200\\1142174358.py:2: SettingWithCopyWarning: \n",
      "A value is trying to be set on a copy of a slice from a DataFrame.\n",
      "Try using .loc[row_indexer,col_indexer] = value instead\n",
      "\n",
      "See the caveats in the documentation: https://pandas.pydata.org/pandas-docs/stable/user_guide/indexing.html#returning-a-view-versus-a-copy\n",
      "  newgeneration['technology']=np.nan\n",
      "C:\\Users\\lbeatty\\AppData\\Local\\Temp\\ipykernel_9200\\1142174358.py:3: SettingWithCopyWarning: \n",
      "A value is trying to be set on a copy of a slice from a DataFrame.\n",
      "Try using .loc[row_indexer,col_indexer] = value instead\n",
      "\n",
      "See the caveats in the documentation: https://pandas.pydata.org/pandas-docs/stable/user_guide/indexing.html#returning-a-view-versus-a-copy\n",
      "  newgeneration.loc[newgeneration['Resource'].str.contains('_ccavg'), 'technology']= 'Natural Gas Fired Combined Cycle'\n"
     ]
    }
   ],
   "source": [
    "### Now deal with new generation\n",
    "newgeneration['technology']=np.nan\n",
    "newgeneration.loc[newgeneration['Resource'].str.contains('_ccavg'), 'technology']= 'Natural Gas Fired Combined Cycle'\n",
    "newgeneration.loc[newgeneration['Resource'].str.contains('_ctavg'), 'technology']= 'Natural Gas Fired Combustion Turbine'\n",
    "newgeneration.loc[newgeneration['Resource'].str.contains('_ccccsavg'), 'technology']= 'Natural Gas Fired Combined Cycle With CCS'\n",
    "\n",
    "#Isolate retired sites -- dates and locations\n",
    "retired_sites = existing_gen_units.groupby(['EIA_PLANT_ID', 'EIA_GENERATOR_ID', 'region', 'technology'])['planning_year'].max().reset_index()\n",
    "retired_sites['planning_year']=retired_sites['planning_year']+10\n",
    "retired_sites = pd.merge(eia860, retired_sites, how='left', on=['EIA_PLANT_ID', 'EIA_GENERATOR_ID']).reset_index()\n",
    "retired_sites = pd.merge(retired_sites, plants, how='left', on=['EIA_PLANT_ID'])\n",
    "\n",
    "#get retirement date from eia860, then round up to nearest 10\n",
    "retired_sites['RetirementPeriod860']=pd.to_numeric(retired_sites['RetirementYear'], errors='coerce', downcast='float')\n",
    "retired_sites['RetirementPeriod860']=retired_sites['RetirementPeriod860']/10\n",
    "retired_sites['RetirementPeriod860']=retired_sites['RetirementPeriod860'].apply(np.ceil)*10\n",
    "\n",
    "retired_sites['RetirementPeriod'] = retired_sites['planning_year'].combine_first(retired_sites['RetirementPeriod860'])\n",
    "ipm_regions = gpd.read_file('Data/IPM_Regions/national_emm_boundaries.shp')"
   ]
  },
  {
   "cell_type": "code",
   "execution_count": 171,
   "metadata": {},
   "outputs": [],
   "source": [
    "#make retired sites a geopandas\n",
    "geometry = [Point(lon, lat) for lon, lat in zip(retired_sites['Longitude'], retired_sites['Latitude'])]\n",
    "retired_sites_geo = gpd.GeoDataFrame(retired_sites, geometry=geometry, crs='EPSG:4326')"
   ]
  },
  {
   "cell_type": "code",
   "execution_count": 172,
   "metadata": {},
   "outputs": [
    {
     "name": "stderr",
     "output_type": "stream",
     "text": [
      "c:\\Users\\lbeatty\\AppData\\Local\\miniforge3\\envs\\powergenome\\lib\\site-packages\\IPython\\core\\interactiveshell.py:3490: FutureWarning: The `op` parameter is deprecated and will be removed in a future release. Please use the `predicate` parameter instead.\n",
      "  if await self.run_code(code, result, async_=asy):\n"
     ]
    }
   ],
   "source": [
    "#ipm_regions['region'] = ipm_regions['IPM_Region'].map({region: val for val, regions in cost_multiplier_region_map.items() for region in regions})\n",
    "ipm_regions = ipm_regions.to_crs('EPSG:4326')\n",
    "\n",
    "retired_sites_geo = gpd.sjoin(retired_sites_geo, ipm_regions, how=\"left\", op=\"intersects\")"
   ]
  },
  {
   "cell_type": "code",
   "execution_count": 173,
   "metadata": {},
   "outputs": [
    {
     "name": "stdout",
     "output_type": "stream",
     "text": [
      "<bound method NDFrame.head of    model_regi    region             x             y  \\\n",
      "0        BASN   WECC_ID -1.539230e+06  2.095757e+06   \n",
      "1        CANO  WEC_BANC -2.161934e+06  2.018298e+06   \n",
      "2        CASO  WEC_LADW -1.916067e+06  1.555589e+06   \n",
      "3        FRCC      FRCC  1.384001e+06  6.823118e+05   \n",
      "4        ISNE   NENG_CT  1.992209e+06  2.623107e+06   \n",
      "5        MISC    MIS_IL  5.539238e+05  1.802351e+06   \n",
      "6        MISE   MIS_LMI  9.173750e+05  2.338542e+06   \n",
      "7        MISS  MIS_AMSO  4.139155e+05  1.040307e+06   \n",
      "8        MISW    MIS_IA  1.587086e+04  2.526196e+06   \n",
      "9        NWPP   WECC_MT -1.628495e+06  2.733482e+06   \n",
      "10       NYCW    NY_Z_J  1.891715e+06  2.206903e+06   \n",
      "11       NYUP    NY_Z_A  1.641025e+06  2.401311e+06   \n",
      "12       PJMC  PJM_COMD  5.741554e+05  2.078340e+06   \n",
      "13       PJMD   PJM_Dom  1.593121e+06  1.740088e+06   \n",
      "14       PJME  PJM_EMAC  1.615012e+06  2.091724e+06   \n",
      "15       PJMW    PJM_AP  1.201329e+06  1.907795e+06   \n",
      "16       RMRG   WECC_CO -8.602443e+05  2.052013e+06   \n",
      "17       SPPC     SPP_N -1.173474e+05  1.706885e+06   \n",
      "18       SPPN  SPP_NEBR -3.308870e+05  2.270228e+06   \n",
      "19       SPPS   SPP_SPS -2.247875e+05  1.334102e+06   \n",
      "20       SRCA    S_VACA  1.438152e+06  1.423983e+06   \n",
      "21       SRCE    S_C_KY  8.528978e+05  1.461525e+06   \n",
      "22       SRSE     S_SOU  1.023183e+06  1.086718e+06   \n",
      "23       SRSG   WECC_AZ -1.211711e+06  1.340529e+06   \n",
      "24        TRE  ERC_REST -1.524081e+05  8.037516e+05   \n",
      "25   TRE_WEST  ERC_PHDL -5.269497e+05  1.024528e+06   \n",
      "\n",
      "                                             geometry  \n",
      "0   POLYGON ((-114.04123 36.19409, -114.04125 36.1...  \n",
      "1   MULTIPOLYGON (((-122.36767 37.83451, -122.3671...  \n",
      "2   MULTIPOLYGON (((-119.53601 33.28967, -119.5354...  \n",
      "3   MULTIPOLYGON (((-82.88278 24.61704, -82.88323 ...  \n",
      "4   MULTIPOLYGON (((-73.61922 40.98725, -73.61877 ...  \n",
      "5   MULTIPOLYGON (((-90.26357 36.91211, -90.26399 ...  \n",
      "6   MULTIPOLYGON (((-85.56944 44.87654, -85.56882 ...  \n",
      "7   MULTIPOLYGON (((-90.94468 29.05961, -90.94426 ...  \n",
      "8   MULTIPOLYGON (((-96.64144 42.74373, -96.64116 ...  \n",
      "9   MULTIPOLYGON (((-124.13951 41.65997, -124.1393...  \n",
      "10  MULTIPOLYGON (((-74.20736 40.62160, -74.20752 ...  \n",
      "11  MULTIPOLYGON (((-79.07629 43.08526, -79.07623 ...  \n",
      "12  POLYGON ((-87.80640 42.49740, -87.80582 42.497...  \n",
      "13  MULTIPOLYGON (((-76.29652 36.99030, -76.29606 ...  \n",
      "14  MULTIPOLYGON (((-79.04081 37.60065, -79.04045 ...  \n",
      "15  MULTIPOLYGON (((-86.14838 36.90627, -86.14864 ...  \n",
      "16  POLYGON ((-102.05163 41.00665, -102.05105 41.0...  \n",
      "17  POLYGON ((-95.06651 40.25161, -95.06624 40.251...  \n",
      "18  MULTIPOLYGON (((-102.08865 43.00512, -102.0876...  \n",
      "19  MULTIPOLYGON (((-99.25920 34.36818, -99.25971 ...  \n",
      "20  MULTIPOLYGON (((-80.44559 32.41812, -80.44612 ...  \n",
      "21  MULTIPOLYGON (((-90.06133 35.40642, -90.06101 ...  \n",
      "22  MULTIPOLYGON (((-89.15940 30.22663, -89.15984 ...  \n",
      "23  POLYGON ((-105.04076 30.68052, -105.04072 30.6...  \n",
      "24  MULTIPOLYGON (((-99.69580 27.65235, -99.69616 ...  \n",
      "25  POLYGON ((-104.92762 30.59565, -104.92803 30.5...  >\n"
     ]
    },
    {
     "data": {
      "image/png": "[encoded data removed]",
      "text/plain": [
       "<Figure size 640x480 with 1 Axes>"
      ]
     },
     "metadata": {},
     "output_type": "display_data"
    }
   ],
   "source": [
    "print(ipm_regions.head)\n",
    "ipm_regions[ipm_regions['model_regi'].isin(['PJMW', 'PJME'])].plot(column='model_regi',edgecolor='black', linewidth=1, legend=True, alpha=0.3)\n",
    "plt.show()\n",
    "\n",
    "## There's some overlapping between regions which leads to multiple matches for some retired units which messes things up"
   ]
  },
  {
   "cell_type": "code",
   "execution_count": 174,
   "metadata": {},
   "outputs": [
    {
     "name": "stdout",
     "output_type": "stream",
     "text": [
      "1834\n",
      "1834\n",
      "1834\n",
      "1834\n",
      "1834\n"
     ]
    },
    {
     "name": "stderr",
     "output_type": "stream",
     "text": [
      "C:\\Users\\lbeatty\\AppData\\Local\\Temp\\ipykernel_9200\\902358228.py:19: SettingWithCopyWarning: \n",
      "A value is trying to be set on a copy of a slice from a DataFrame.\n",
      "Try using .loc[row_indexer,col_indexer] = value instead\n",
      "\n",
      "See the caveats in the documentation: https://pandas.pydata.org/pandas-docs/stable/user_guide/indexing.html#returning-a-view-versus-a-copy\n",
      "  retired_sites_2030['RetirementPeriod']=2030\n",
      "C:\\Users\\lbeatty\\AppData\\Local\\Temp\\ipykernel_9200\\902358228.py:22: SettingWithCopyWarning: \n",
      "A value is trying to be set on a copy of a slice from a DataFrame.\n",
      "Try using .loc[row_indexer,col_indexer] = value instead\n",
      "\n",
      "See the caveats in the documentation: https://pandas.pydata.org/pandas-docs/stable/user_guide/indexing.html#returning-a-view-versus-a-copy\n",
      "  retired_sites_2040['RetirementPeriod']=2040\n",
      "C:\\Users\\lbeatty\\AppData\\Local\\Temp\\ipykernel_9200\\902358228.py:25: SettingWithCopyWarning: \n",
      "A value is trying to be set on a copy of a slice from a DataFrame.\n",
      "Try using .loc[row_indexer,col_indexer] = value instead\n",
      "\n",
      "See the caveats in the documentation: https://pandas.pydata.org/pandas-docs/stable/user_guide/indexing.html#returning-a-view-versus-a-copy\n",
      "  retired_sites_2050['RetirementPeriod']=2050\n",
      "C:\\Users\\lbeatty\\AppData\\Local\\Temp\\ipykernel_9200\\902358228.py:54: SettingWithCopyWarning: \n",
      "A value is trying to be set on a copy of a slice from a DataFrame\n",
      "\n",
      "See the caveats in the documentation: https://pandas.pydata.org/pandas-docs/stable/user_guide/indexing.html#returning-a-view-versus-a-copy\n",
      "  retired_sites_temp['excess_capacity'][retired_sites_temp['excess_capacity'].isna()]=-1*retired_sites_temp['end_value'][retired_sites_temp['excess_capacity'].isna()]\n",
      "C:\\Users\\lbeatty\\AppData\\Local\\Temp\\ipykernel_9200\\902358228.py:54: SettingWithCopyWarning: \n",
      "A value is trying to be set on a copy of a slice from a DataFrame\n",
      "\n",
      "See the caveats in the documentation: https://pandas.pydata.org/pandas-docs/stable/user_guide/indexing.html#returning-a-view-versus-a-copy\n",
      "  retired_sites_temp['excess_capacity'][retired_sites_temp['excess_capacity'].isna()]=-1*retired_sites_temp['end_value'][retired_sites_temp['excess_capacity'].isna()]\n",
      "C:\\Users\\lbeatty\\AppData\\Local\\Temp\\ipykernel_9200\\902358228.py:54: SettingWithCopyWarning: \n",
      "A value is trying to be set on a copy of a slice from a DataFrame\n",
      "\n",
      "See the caveats in the documentation: https://pandas.pydata.org/pandas-docs/stable/user_guide/indexing.html#returning-a-view-versus-a-copy\n",
      "  retired_sites_temp['excess_capacity'][retired_sites_temp['excess_capacity'].isna()]=-1*retired_sites_temp['end_value'][retired_sites_temp['excess_capacity'].isna()]\n"
     ]
    }
   ],
   "source": [
    "retired_sites_df = pd.DataFrame(retired_sites_geo[['EIA_PLANT_ID', 'EIA_GENERATOR_ID', 'region_left', 'model_regi','Technology', 'Longitude', 'Latitude', 'planning_year', 'RetirementPeriod860','RetirementPeriod', 'Capacity']])\n",
    "retired_sites_df = retired_sites_df.dropna(subset=['RetirementPeriod','model_regi'])\n",
    "retired_sites_df = retired_sites_df[retired_sites_df['Technology'].str.contains('Natural Gas')]\n",
    "\n",
    "# look for plants matched with multiple model regions\n",
    "rowcount = retired_sites_df.groupby(['EIA_PLANT_ID', 'EIA_GENERATOR_ID', 'RetirementPeriod']).size().reset_index()\n",
    "rowcount.columns = ['EIA_PLANT_ID', 'EIA_GENERATOR_ID', 'RetirementPeriod', 'rowcount']\n",
    "retired_sites_df = pd.merge(retired_sites_df, rowcount, how='left', on=['EIA_PLANT_ID', 'EIA_GENERATOR_ID', 'RetirementPeriod'])\n",
    "#drop ones where model_regi!=zone\n",
    "cond1 = (retired_sites_df['model_regi']!=retired_sites_df['region_left'])\n",
    "cond2 = (retired_sites_df['rowcount']>1)\n",
    "retired_sites_df = retired_sites_df[~(cond1 & cond2)]\n",
    "\n",
    "#check again\n",
    "#rowcount = retired_sites_df.groupby(['EIA_PLANT_ID', 'EIA_GENERATOR_ID', 'planning_year'])\n",
    "\n",
    "#make sites retired by 2030 show up in subsequent periods, etc\n",
    "retired_sites_2030 = retired_sites_df[retired_sites_df['RetirementPeriod']<=2030]\n",
    "retired_sites_2030['RetirementPeriod']=2030\n",
    "\n",
    "retired_sites_2040 = retired_sites_df[retired_sites_df['RetirementPeriod']<=2040]\n",
    "retired_sites_2040['RetirementPeriod']=2040\n",
    "\n",
    "retired_sites_2050 = retired_sites_df[retired_sites_df['RetirementPeriod']<=2050]\n",
    "retired_sites_2050['RetirementPeriod']=2050\n",
    "\n",
    "retired_sites_df = pd.concat([retired_sites_2030, retired_sites_2040, retired_sites_2050])\n",
    "print(retired_sites_df.shape[0])\n",
    "#want to distribute new capacity evenly to retired sites\n",
    "#be agnostic about type of natural gas plant -- eg new cc capacity can go at an old ct site\n",
    "retired_sites_tech_total= retired_sites_df.groupby(['model_regi', 'RetirementPeriod']).agg({'Capacity':'sum'}).reset_index()\n",
    "retired_sites_tech_total.columns = ['model_regi','RetirementPeriod', 'Tech_Tot_Retired_Capacity']\n",
    "\n",
    "retired_sites_df = pd.merge(retired_sites_df, retired_sites_tech_total, how='left', on=['RetirementPeriod', 'model_regi'])\n",
    "retired_sites_df['Pct_retired_capacity']=retired_sites_df['Capacity']/retired_sites_df['Tech_Tot_Retired_Capacity']\n",
    "retired_sites_df['planning_year']=retired_sites_df['RetirementPeriod']\n",
    "retired_sites_df = retired_sites_df.rename(columns={'model_regi': 'zone'})\n",
    "#save remaining capacity will get updated iteratively\n",
    "retired_sites_df['RemainingCapacity']=retired_sites_df['Capacity']\n",
    "print(retired_sites_df.shape[0])\n",
    "\n",
    "\n",
    "techlist = ['ccavgcf_moderate_0', 'ctavgcf_moderate_0', '_ccccsavgcf_conservative_0']\n",
    "newgen = pd.DataFrame()\n",
    "excess = pd.DataFrame()\n",
    "\n",
    "for tech in techlist:\n",
    "    capacity_temp = capacity[capacity['resource_name'].str.contains(tech)]\n",
    "    retired_sites_temp = pd.merge(retired_sites_df, capacity_temp, how='outer', on=['zone', 'planning_year'])  #outer catches all of the region-years with new capacity but no retired plants\n",
    "    retired_sites_temp['newcapacity'] = retired_sites_temp['Pct_retired_capacity']*retired_sites_temp['end_value']\n",
    "\n",
    "    #save excess to be distributed to existing plants as a column value\n",
    "    retired_sites_temp['excess_capacity'] = retired_sites_temp['RemainingCapacity']-retired_sites_temp['newcapacity']\n",
    "    retired_sites_temp['excess_capacity'][retired_sites_temp['excess_capacity'].isna()]=-1*retired_sites_temp['end_value'][retired_sites_temp['excess_capacity'].isna()]\n",
    "\n",
    "    #limit new capacity to be no greater than retired capacity\n",
    "    retired_sites_temp['newcapacity']=retired_sites_temp[['RemainingCapacity', 'newcapacity']].min(axis=1)\n",
    "\n",
    "    #save excess\n",
    "    excess_temp = retired_sites_temp[retired_sites_temp['excess_capacity']<0]\n",
    "    excess_temp = excess_temp.groupby(['planning_year', 'resource_name', 'zone']).agg({'excess_capacity':'sum'}).reset_index()\n",
    "    excess = pd.concat([excess, excess_temp], ignore_index=True)\n",
    "\n",
    "    #save new capacity\n",
    "    retired_sites_newgen = retired_sites_temp.dropna(subset=['Capacity'])\n",
    "    retired_sites_newgen = retired_sites_newgen[['newcapacity', 'resource_name','planning_year', 'Longitude', 'Latitude']]\n",
    "    newgen = pd.concat([newgen, retired_sites_newgen], ignore_index=True)\n",
    "\n",
    "    #update remaining capacity\n",
    "    retired_sites_temp = retired_sites_temp.dropna(subset=['Capacity'])\n",
    "    retired_sites_temp['RemainingCapacity']=retired_sites_temp['Capacity']-retired_sites_temp['newcapacity']\n",
    "    retired_sites_temp = retired_sites_temp[['EIA_PLANT_ID', 'EIA_GENERATOR_ID', 'RemainingCapacity', 'planning_year']]\n",
    "    retired_sites_df = pd.merge(retired_sites_df, retired_sites_temp, how='left', on=['EIA_PLANT_ID', 'EIA_GENERATOR_ID', 'planning_year'])\n",
    "    retired_sites_df['RemainingCapacity']=retired_sites_df['RemainingCapacity_y']\n",
    "    retired_sites_df.drop(['RemainingCapacity_x', 'RemainingCapacity_y'], axis=1, inplace=True)\n",
    "    print(retired_sites_df.shape[0])"
   ]
  },
  {
   "cell_type": "code",
   "execution_count": 175,
   "metadata": {},
   "outputs": [],
   "source": [
    "##########\n",
    "## Now distribute excess gen to existing plants\n",
    "newgen_existingunits = existing_gen_units.copy()\n",
    "newgen_existingunits = newgen_existingunits[newgen_existingunits['technology'].str.contains('Natural Gas')]\n",
    "#merge in total capacity or total net gen\n",
    "excess.columns = ['planning_year', 'resource_name', 'region', 'excess_capacity']\n",
    "newgen_existingunits = pd.merge(newgen_existingunits, excess, on=['planning_year', 'region'], how='left')\n",
    "\n",
    "technology_year_total = newgen_existingunits.groupby(['resource_name', 'planning_year', 'region']).agg({column : 'sum'}).reset_index()\n",
    "technology_year_total.columns = ['resource_name', 'planning_year', 'region', 'technology_total']\n",
    "newgen_existingunits = pd.merge(newgen_existingunits, technology_year_total, how='left', on=['resource_name', 'planning_year', 'region'])\n",
    "\n",
    "newgen_existingunits['pct_total']=newgen_existingunits[column]/newgen_existingunits['technology_total_y']\n",
    "test = newgen_existingunits.groupby(['resource_name', 'planning_year', 'region']).agg({'pct_total':'sum'}).reset_index()\n",
    "newgen_existingunits['newcapacity']=newgen_existingunits['excess_capacity']*newgen_existingunits['pct_total']*-1\n",
    "\n",
    "newgen_existingunits = newgen_existingunits[['newcapacity', 'region', 'planning_year', 'resource_name', 'Longitude', 'Latitude', 'EIA_PLANT_ID', 'EIA_GENERATOR_ID', 'pct_total']]\n",
    "test = newgen_existingunits.groupby(['resource_name', 'planning_year', 'region']).agg({'pct_total':'sum'}).reset_index()\n",
    "\n",
    "newgen = pd.concat([newgen, newgen_existingunits], ignore_index=True)\n",
    "newgen['retiredsite']=newgen['EIA_PLANT_ID'].isna()\n",
    "\n",
    "test = newgen.groupby(['resource_name', 'planning_year', 'retiredsite']).agg({'newcapacity':'sum', 'pct_total':'sum'}).reset_index()\n"
   ]
  },
  {
   "cell_type": "code",
   "execution_count": 176,
   "metadata": {},
   "outputs": [],
   "source": [
    "######\n",
    "# Test to see if you allocated the correct amount of new capacity\n",
    "test = newgen.groupby(['resource_name', 'planning_year']).agg({'newcapacity':'sum', 'pct_total':'sum'})\n",
    "test = pd.merge(test, capacity, how='left', on=['resource_name', 'planning_year'])\n",
    "test['dif'] = test['end_value']-test['newcapacity']\n",
    "test['dif'] = test['dif'].abs()\n",
    "maxdif = test['dif'].max()\n",
    "def check_value(value):\n",
    "    if value > 0.001:  #gives a little bit of wiggle room\n",
    "        raise ValueError(\"New capacity was not allocated correctly. Check code.\")\n",
    "\n",
    "try:\n",
    "    check_value(maxdif)\n",
    "except ValueError as e:\n",
    "    print(f\"Error: {e}\")"
   ]
  },
  {
   "cell_type": "code",
   "execution_count": 177,
   "metadata": {},
   "outputs": [],
   "source": [
    "#################\n",
    "## Distribute newgeneration to newgen (capacities) weighted by capacity\n",
    "\n",
    "newgen = newgen.rename(columns={'resource_name': 'Resource'})\n",
    "newgen = pd.merge(newgen, newgeneration, on=['Resource', 'planning_year'], how='left')\n",
    "newgen = pd.merge(newgen, technology_rates_newsources, on=['technology', 'planning_year'])"
   ]
  },
  {
   "cell_type": "code",
   "execution_count": 178,
   "metadata": {},
   "outputs": [],
   "source": [
    "#############\n",
    "## Same schtick as before - determine a source's share of cluster-level capacity, then allocate generation based on that percentage\n",
    "\n",
    "newgen_cap_totals = newgen.groupby(['Resource', 'planning_year']).agg({'newcapacity':'sum'}).reset_index()\n",
    "newgen_cap_totals.columns = ['Resource', 'planning_year', 'sum_tot_cap']\n",
    "\n",
    "newgen = pd.merge(newgen, newgen_cap_totals, how='left', on=['Resource', 'planning_year'])"
   ]
  },
  {
   "cell_type": "code",
   "execution_count": 179,
   "metadata": {},
   "outputs": [],
   "source": [
    "newgen['pct_cap']=newgen['newcapacity']/newgen['sum_tot_cap']\n",
    "newgen['predicted_gen']=newgen['value']*newgen['pct_cap']\n",
    "\n",
    "newgen['nox_predicted']=newgen['predicted_gen']*newgen['nox_rate']\n",
    "newgen['so2_predicted']=newgen['predicted_gen']*newgen['so2_rate']\n",
    "newgen['pm25_predicted']=newgen['predicted_gen']*newgen['pm25_rate']\n",
    "newgen['voc_predicted']=newgen['predicted_gen']*newgen['voc_rate']\n",
    "newgen['nh3_predicted']=newgen['predicted_gen']*newgen['nh3_rate']\n"
   ]
  },
  {
   "cell_type": "code",
   "execution_count": 180,
   "metadata": {},
   "outputs": [],
   "source": [
    "#bind all emissions sources together\n",
    "emissions=pd.concat([existing_gen_units, newgen], ignore_index=True)\n",
    "test_emissions_2020['planning_year']=2020\n",
    "emissions = pd.concat([emissions, test_emissions_2020], ignore_index=True)\n"
   ]
  },
  {
   "cell_type": "code",
   "execution_count": 181,
   "metadata": {},
   "outputs": [],
   "source": [
    "#make output folders\n",
    "\n",
    "#folder for emissions output\n",
    "if not os.path.exists('InMap/MIP_Emissions/'+scenario+'/'+model):\n",
    "    os.makedirs('InMap/MIP_Emissions/'+scenario+'/'+model+'/')\n",
    "\n",
    "#folder for inmap output\n",
    "if not os.path.exists('InMap/MIP_InMap_Output/'+scenario+'/'+model):\n",
    "    os.makedirs('InMap/MIP_InMap_Output/'+scenario+'/'+model+'/')"
   ]
  },
  {
   "cell_type": "markdown",
   "metadata": {},
   "source": [
    "## 6. Split the emissions output by planning year and write to shapefiles."
   ]
  },
  {
   "cell_type": "code",
   "execution_count": 182,
   "metadata": {},
   "outputs": [],
   "source": [
    "#####\n",
    "## 2020\n",
    "#####\n",
    "emissions_2020 = emissions.query('planning_year==2020')\n",
    "\n",
    "emissions_2020 = emissions_2020[['Longitude', 'Latitude', 'nox_predicted', 'so2_predicted', 'pm25_predicted', 'voc_predicted', 'nh3_predicted']]\n",
    "emissions_2020.columns = ['Longitude', 'Latitude', 'NOx', 'SOx', 'PM2_5', 'VOC', 'NH3']\n",
    "\n",
    "emissions_2020 = gpd.GeoDataFrame(\n",
    "    emissions_2020, geometry = gpd.points_from_xy(emissions_2020.Longitude, emissions_2020.Latitude), crs='EPSG:4326')\n",
    "\n",
    "emissions_2020 = emissions_2020.dropna().reset_index(drop=True)\n",
    "\n",
    "emissions_2020.to_file(filename='InMap/MIP_Emissions/'+scenario+'/'+model+'/emissions_2020.shp')\n",
    "\n",
    "#####\n",
    "## 2030\n",
    "#####\n",
    "emissions_2030 = emissions.query('planning_year==2030')\n",
    "\n",
    "emissions_2030 = emissions_2030[['Longitude', 'Latitude', 'nox_predicted', 'so2_predicted', 'pm25_predicted', 'voc_predicted', 'nh3_predicted']]\n",
    "emissions_2030.columns = ['Longitude', 'Latitude', 'NOx', 'SOx', 'PM2_5', 'VOC', 'NH3']\n",
    "\n",
    "emissions_2030 = gpd.GeoDataFrame(\n",
    "    emissions_2030, geometry = gpd.points_from_xy(emissions_2030.Longitude, emissions_2030.Latitude), crs='EPSG:4326')\n",
    "\n",
    "emissions_2030 = emissions_2030.dropna().reset_index(drop=True)\n",
    "\n",
    "emissions_2030.to_file(filename='InMap/MIP_Emissions/'+scenario+'/'+model+'/emissions_2030.shp')\n",
    "\n",
    "#####\n",
    "## 2040\n",
    "#####\n",
    "\n",
    "emissions_2040 = emissions.query('planning_year==2040')\n",
    "\n",
    "emissions_2040 = emissions_2040[['Longitude', 'Latitude', 'nox_predicted', 'so2_predicted', 'pm25_predicted', 'voc_predicted', 'nh3_predicted']]\n",
    "emissions_2040.columns = ['Longitude', 'Latitude', 'NOx', 'SOx', 'PM2_5', 'VOC', 'NH3']\n",
    "\n",
    "emissions_2040 = gpd.GeoDataFrame(\n",
    "    emissions_2040, geometry = gpd.points_from_xy(emissions_2040.Longitude, emissions_2040.Latitude), crs='EPSG:4326')\n",
    "\n",
    "emissions_2040 = emissions_2040.dropna().reset_index(drop=True)\n",
    "\n",
    "emissions_2040.to_file(filename='InMap/MIP_Emissions/'+scenario+'/'+model+'/emissions_2040.shp')\n",
    "\n",
    "#####\n",
    "## 2050\n",
    "#####\n",
    "\n",
    "emissions_2050 = emissions.query('planning_year==2050')\n",
    "\n",
    "emissions_2050 = emissions_2050[['Longitude', 'Latitude', 'nox_predicted', 'so2_predicted', 'pm25_predicted', 'voc_predicted', 'nh3_predicted']]\n",
    "emissions_2050.columns = ['Longitude', 'Latitude', 'NOx', 'SOx', 'PM2_5', 'VOC', 'NH3']\n",
    "\n",
    "emissions_2050 = gpd.GeoDataFrame(\n",
    "    emissions_2050, geometry = gpd.points_from_xy(emissions_2050.Longitude, emissions_2050.Latitude), crs='EPSG:4326')\n",
    "\n",
    "emissions_2050 = emissions_2050.dropna().reset_index(drop=True)\n",
    "\n",
    "\n",
    "emissions_2050.to_file(filename='InMap/MIP_Emissions/'+scenario+'/'+model+'/emissions_2050.shp')\n",
    "\n"
   ]
  },
  {
   "cell_type": "code",
   "execution_count": 184,
   "metadata": {},
   "outputs": [
    {
     "name": "stdout",
     "output_type": "stream",
     "text": [
      "   planning_year  nox_predicted  so2_predicted  pm25_predicted  voc_predicted  \\\n",
      "0           2020  786091.272506  742054.443012   100501.666524   24078.280933   \n",
      "1           2030   54164.960973   11098.502200    18219.753443    4359.031361   \n",
      "2           2040   54625.484376    9757.279779    18508.946891    4232.692885   \n",
      "3           2050   50499.841455    2744.717165    18168.758229    4267.362770   \n",
      "\n",
      "   nh3_predicted model          scenario  date_stamp  \n",
      "0   34166.756106  GenX  26z-short-no-ccs  2024-02-20  \n",
      "1    9545.720475  GenX  26z-short-no-ccs  2024-02-20  \n",
      "2    9588.624593  GenX  26z-short-no-ccs  2024-02-20  \n",
      "3    9761.570578  GenX  26z-short-no-ccs  2024-02-20  \n",
      "    planning_year                                   technology  nox_predicted  \\\n",
      "0            2020                                    All Other       0.000000   \n",
      "1            2020                                    Batteries       0.000000   \n",
      "2            2020  Coal Integrated Gasification Combined Cycle       0.000000   \n",
      "3            2020                   Conventional Hydroelectric       0.000000   \n",
      "4            2020                      Conventional Steam Coal  529159.107938   \n",
      "..            ...                                          ...            ...   \n",
      "67           2050                                      Nuclear       0.000000   \n",
      "68           2050                         Onshore Wind Turbine       0.000000   \n",
      "69           2050                            Petroleum Liquids       3.489419   \n",
      "70           2050                          Small Hydroelectric       0.000000   \n",
      "71           2050                           Solar Photovoltaic       0.000000   \n",
      "\n",
      "    so2_predicted  pm25_predicted  voc_predicted  nh3_predicted model  \\\n",
      "0        0.000000        0.000000       0.000000       0.000000  GenX   \n",
      "1        0.000000        0.000000       0.000000       0.000000  GenX   \n",
      "2        0.000000        0.000000       0.000000       0.000000  GenX   \n",
      "3        0.000000        0.000000       0.000000       0.000000  GenX   \n",
      "4   734842.483970    48131.355907    9990.737207    3530.339865  GenX   \n",
      "..            ...             ...            ...            ...   ...   \n",
      "67       0.000000        0.000000       0.000000       0.000000  GenX   \n",
      "68       0.000000        0.000000       0.000000       0.000000  GenX   \n",
      "69       0.271974        4.447276       0.592937       1.349038  GenX   \n",
      "70       0.000000        0.000000       0.000000       0.000000  GenX   \n",
      "71       0.000000        0.000000       0.000000       0.000000  GenX   \n",
      "\n",
      "            scenario  date_stamp  \n",
      "0   26z-short-no-ccs  2024-02-20  \n",
      "1   26z-short-no-ccs  2024-02-20  \n",
      "2   26z-short-no-ccs  2024-02-20  \n",
      "3   26z-short-no-ccs  2024-02-20  \n",
      "4   26z-short-no-ccs  2024-02-20  \n",
      "..               ...         ...  \n",
      "67  26z-short-no-ccs  2024-02-20  \n",
      "68  26z-short-no-ccs  2024-02-20  \n",
      "69  26z-short-no-ccs  2024-02-20  \n",
      "70  26z-short-no-ccs  2024-02-20  \n",
      "71  26z-short-no-ccs  2024-02-20  \n",
      "\n",
      "[72 rows x 10 columns]\n"
     ]
    }
   ],
   "source": [
    "### Write total emissions to a csv\n",
    "\n",
    "tot_emissions = emissions.groupby(['planning_year']).agg({'nox_predicted':'sum', 'so2_predicted':'sum', 'pm25_predicted':'sum', 'voc_predicted':'sum', 'nh3_predicted':'sum'}).reset_index()\n",
    "tot_emissions['model']=model\n",
    "tot_emissions['scenario']=scenario\n",
    "tot_emissions['date_stamp']=pd.to_datetime('today').date()\n",
    "\n",
    "print(tot_emissions)\n",
    "\n",
    "tot_emissions.to_csv('MIP_AirPollution/emis.csv', mode='a', index=False, header=False)\n",
    "\n",
    "#Now do by technology\n",
    "tot_emissions = emissions.groupby(['planning_year', 'technology']).agg({'nox_predicted':'sum', 'so2_predicted':'sum', 'pm25_predicted':'sum', 'voc_predicted':'sum', 'nh3_predicted':'sum'}).reset_index()\n",
    "tot_emissions['model']=model\n",
    "tot_emissions['scenario']=scenario\n",
    "tot_emissions['date_stamp']=pd.to_datetime('today').date()\n",
    "\n",
    "print(tot_emissions)\n",
    "\n",
    "tot_emissions.to_csv('MIP_AirPollution/emis_detail.csv', mode='a', index=False, header=False)\n",
    "\n"
   ]
  },
  {
   "cell_type": "markdown",
   "metadata": {},
   "source": [
    "## List of open questions\n",
    "\n",
    "1. What do I do about generators with negative net gen?  This makes emissions rates negative but if I just call them zero I'd be biasing plant-level emissions upwards.\n",
    "2. Do we care about stack height? \n",
    "3. When to interpolate?  Can interpolate generation but then we'd need to run the pollution model a bunch.  Could also interpolate air concentrations -- leaning towards this.\n"
   ]
  },
  {
   "cell_type": "code",
   "execution_count": null,
   "metadata": {},
   "outputs": [
    {
     "name": "stdout",
     "output_type": "stream",
     "text": [
      "-0.38108377533207033\n",
      "94.34458114264957\n",
      "-38.32658340249482\n",
      "3.27326342091716\n",
      "7.0543440585903765\n",
      "30.19196277270919\n",
      "-60391.17784468075\n",
      "50672.34556462551\n"
     ]
    }
   ],
   "source": [
    "test = emissions\n",
    "test['nox_delta']=test['nox_tons']-test['nox_predicted']\n",
    "print(test['nox_delta'].mean())\n",
    "print(test['nox_delta'].quantile(0.9))\n",
    "\n",
    "test['so2_delta']=test['so2_tons']-test['so2_predicted']\n",
    "print(test['so2_delta'].mean())\n",
    "print(test['so2_delta'].quantile(0.9))\n",
    "\n",
    "test['pm25_delta']=test['pm25_tons']-test['pm25_predicted']\n",
    "print(test['pm25_delta'].mean())\n",
    "print(test['pm25_delta'].quantile(0.9))\n",
    "\n",
    "test['gen_delta']=test['predicted_gen']-test['NET_GEN_GENERATOR']\n",
    "print(test['gen_delta'].mean())\n",
    "print(test['gen_delta'].quantile(0.9))\n"
   ]
  }
 ],
 "metadata": {
  "kernelspec": {
   "display_name": "powergenome",
   "language": "python",
   "name": "python3"
  },
  "language_info": {
   "codemirror_mode": {
    "name": "ipython",
    "version": 3
   },
   "file_extension": ".py",
   "mimetype": "text/x-python",
   "name": "python",
   "nbconvert_exporter": "python",
   "pygments_lexer": "ipython3",
   "version": "3.10.13"
  }
 },
 "nbformat": 4,
 "nbformat_minor": 2
}
