{
 "cells": [
  {
   "cell_type": "code",
   "execution_count": 14,
   "metadata": {},
   "outputs": [],
   "source": [
    "import requests\n",
    "import json\n",
    "import pandas as pd\n",
    "\n",
    "# Set API key and base URL\n",
    "# API Keys can be requested at https://www.epa.gov/power-sector/cam-api-portal#/api-key-signup\n",
    "f = open(\"API_Key.json\")\n",
    "config = json.load(f) \n",
    "API_Key = config['API_Key']\n",
    "\n",
    "data_directory = \"C:/Users/lbeatty/Documents/Lauren_MIP_Contribution/Data/\"\n",
    "base_url = \"https://api.epa.gov/easey/\"\n",
    "\n",
    "# Function to fetch data\n",
    "def fetch_data(endpoint, year):\n",
    "    data = []\n",
    "    page = 1\n",
    "    while True:\n",
    "        url = f\"{base_url}{endpoint}?page={page}&perPage=100&year={year}\"\n",
    "        headers = {\n",
    "            \"x-api-key\": API_Key,\n",
    "            \"accept\": \"application/json\"\n",
    "        }\n",
    "        response = requests.get(url, headers=headers)\n",
    "        if response.status_code == 200:\n",
    "            content = response.json()\n",
    "            data.extend(content)\n",
    "            total_count = int(response.headers.get('X-Total-Count', 0))\n",
    "            if total_count <= page * 100:\n",
    "                break\n",
    "            page += 1\n",
    "        else:\n",
    "            print(f\"Failed to fetch data for year {year}, page {page}\")\n",
    "            break\n",
    "    return data\n",
    "\n",
    "# Fetch facilities attributes data\n",
    "facilities_attributes_data = []\n",
    "for year in range(2015, 2021):\n",
    "    endpoint = f\"facilities-mgmt/facilities/attributes\"\n",
    "    facilities_attributes_data.extend(fetch_data(endpoint, year))\n",
    "\n",
    "# Convert to DataFrame and save as CSV\n",
    "facilities_attributes_df = pd.DataFrame(facilities_attributes_data)\n",
    "facilities_attributes_df.to_csv(data_directory+\"facilities_attributes.csv\", index=False)\n",
    "\n",
    "# Fetch facilities emissions data\n",
    "facilities_emissions_data = []\n",
    "for year in range(2015, 2021):\n",
    "    endpoint = f\"emissions-mgmt/emissions/apportioned/annual\"\n",
    "    facilities_emissions_data.extend(fetch_data(endpoint, year))\n",
    "\n",
    "# Convert to DataFrame and save as CSV\n",
    "facilities_emissions_df = pd.DataFrame(facilities_emissions_data)\n",
    "facilities_emissions_df.to_csv(data_directory+\"facilities_emissions.csv\", index=False)"
   ]
  },
  {
   "cell_type": "code",
   "execution_count": 13,
   "metadata": {},
   "outputs": [
    {
     "name": "stdout",
     "output_type": "stream",
     "text": [
      "C:/Users/lbeatty/Documents/Lauren_MIP_Contribution/Data/boobs\n"
     ]
    }
   ],
   "source": [
    "data_directory = \"C:/Users/lbeatty/Documents/Lauren_MIP_Contribution/Data/\"\n",
    "print(data_directory+\"boobs\")\n",
    "facilities_attributes_df.to_csv(data_directory+\"facilities_attributes.csv\", index=False)\n"
   ]
  }
 ],
 "metadata": {
  "kernelspec": {
   "display_name": "powergenome",
   "language": "python",
   "name": "python3"
  },
  "language_info": {
   "codemirror_mode": {
    "name": "ipython",
    "version": 3
   },
   "file_extension": ".py",
   "mimetype": "text/x-python",
   "name": "python",
   "nbconvert_exporter": "python",
   "pygments_lexer": "ipython3",
   "version": "3.10.13"
  }
 },
 "nbformat": 4,
 "nbformat_minor": 2
}
