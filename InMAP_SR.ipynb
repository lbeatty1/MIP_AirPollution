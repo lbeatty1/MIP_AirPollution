{
 "cells": [
  {
   "cell_type": "code",
   "execution_count": 2,
   "metadata": {},
   "outputs": [
    {
     "name": "stderr",
     "output_type": "stream",
     "text": [
      "C:\\Users\\lbeatty\\AppData\\Local\\Temp\\ipykernel_13816\\3896552863.py:11: UserWarning: Shapely 2.0 is installed, but because PyGEOS is also installed, GeoPandas will still use PyGEOS by default for now. To force to use and test Shapely 2.0, you have to set the environment variable USE_PYGEOS=0. You can do this before starting the Python process, or in your code before importing geopandas:\n",
      "\n",
      "import os\n",
      "os.environ['USE_PYGEOS'] = '0'\n",
      "import geopandas\n",
      "\n",
      "In a future release, GeoPandas will switch to using Shapely by default. If you are using PyGEOS directly (calling PyGEOS functions on geometries from GeoPandas), this will then stop working and you are encouraged to migrate from PyGEOS to Shapely 2.0 (https://shapely.readthedocs.io/en/latest/migration_pygeos.html).\n",
      "  import geopandas as gpd\n"
     ]
    }
   ],
   "source": [
    "globals().clear()\n",
    "\n",
    "\n",
    "from __future__ import (absolute_import, division, print_function, unicode_literals)\n",
    "from builtins import * \n",
    "from io import BytesIO, TextIOWrapper\n",
    "from zipfile import ZipFile\n",
    "import urllib.request\n",
    "import csv\n",
    "from shapely.geometry import Point\n",
    "import geopandas as gpd\n",
    "\n",
    "import time\n",
    "import numpy as np\n",
    "import zarr\n",
    "from shapely.geometry import Polygon, Point\n",
    "import pandas as pd\n",
    "import geopandas as gpd\n",
    "import s3fs\n",
    "import os\n",
    "\n",
    "\n",
    "os.chdir('C:/Users/lbeatty/Documents/Lauren_MIP_Contribution/')\n"
   ]
  },
  {
   "cell_type": "code",
   "execution_count": 3,
   "metadata": {},
   "outputs": [],
   "source": [
    "def rect(i, w, s, e, n):\n",
    "    x = [w[i], e[i], e[i], w[i], w[i]]\n",
    "    y = [s[i], s[i], n[i], n[i], s[i]]\n",
    "    return x, y\n",
    "\n",
    "def poly(sr):\n",
    "    ret = []\n",
    "    w = sr[\"W\"][:]\n",
    "    s = sr[\"S\"][:]\n",
    "    e = sr[\"E\"][:]\n",
    "    n = sr[\"N\"][:]\n",
    "    for i in range(52411):\n",
    "        x, y = rect(i, w, s, e, n)\n",
    "        ret.append(Polygon([[x[0],y[0]],[x[1],y[1]],[x[2],y[2]],\n",
    "                            [x[3],y[3]],[x[4],y[4]]]))\n",
    "    return ret\n",
    "\n",
    "def run_sr(emis, model, emis_units=\"tons/year\"):\n",
    "    start = time.time()\n",
    "    url = 's3://inmap-model/isrm_v1.2.1.zarr/'\n",
    "    fs = s3fs.S3FileSystem(anon=True, client_kwargs=dict(region_name='us-east-2'))\n",
    "    sr = zarr.open(s3fs.S3Map(url, s3=fs, check=False), mode=\"r\")\n",
    "#     the following line is used when we access the SR matrix from local files\n",
    "#     sr = zarr.open(\"isrm_v1.2.1.zarr\", mode=\"r\")\n",
    "\n",
    "    # build the geometry\n",
    "    p = poly(sr)\n",
    "    print(\"Making polygons as geometry.\")\n",
    "\n",
    "    # took the emis geopandas dataframe\n",
    "    df = pd.DataFrame({'Location': range(52411)})\n",
    "    gdf = gpd.GeoDataFrame(df, geometry=p)\n",
    "\n",
    "    # join the emis dataframe into the grid dataframe\n",
    "    emis.crs = \"+proj=longlat\"\n",
    "    gdf.crs = \"+proj=lcc +lat_1=33.000000 +lat_2=45.000000 +lat_0=40.000000 +lon_0=-97.000000 +x_0=0 +y_0=0 +a=6370997.000000 +b=6370997.000000 +to_meter=1\"\n",
    "    emis = emis.to_crs(gdf.crs)\n",
    "    join_right_df = gdf.sjoin(emis, how=\"right\")\n",
    "    print(\"Finished joining the dataframes.\")\n",
    "    \n",
    "    index = join_right_df.Location.tolist()\n",
    "\n",
    "    ppl = np.unique(join_right_df.Location.tolist())\n",
    "\n",
    "    num = range(0,len(ppl))\n",
    "\n",
    "    dictionary = dict(zip(ppl, num))\n",
    "        \n",
    "    SOA = sr['SOA'].get_orthogonal_selection(([0], ppl, slice(None)))\n",
    "    print(\"SOA data is allocated.\")\n",
    "    pNO3 = sr['pNO3'].get_orthogonal_selection(([0], ppl, slice(None)))\n",
    "    print(\"pNO3 data is allocated.\")\n",
    "    pNH4 = sr['pNH4'].get_orthogonal_selection(([0], ppl, slice(None)))\n",
    "    print(\"pNH4 data is allocated.\")\n",
    "    pSO4 = sr['pSO4'].get_orthogonal_selection(([0], ppl, slice(None)))\n",
    "    print(\"pSO4 data is allocated.\")\n",
    "    PM25 = sr['PrimaryPM25'].get_orthogonal_selection(([0], ppl, slice(None)))\n",
    "    print(\"PrimaryPM25 data is allocated.\")\n",
    "    \n",
    "    SOA_data, pNO3_data, pNH4_data, pSO4_data, PM25_data = 0.0, 0.0, 0.0, 0.0, 0.0\n",
    "    for i in range(len(index)):\n",
    "        SOA_data += SOA[0, dictionary[index[i]], :]*emis.VOC[i]\n",
    "        pNO3_data += pNO3[0, dictionary[index[i]], :]*emis.NOx[i]\n",
    "        pNH4_data += pNH4[0, dictionary[index[i]], :]*emis.NH3[i]\n",
    "        pSO4_data += pSO4[0, dictionary[index[i]], :]*emis.SOx[i]\n",
    "        PM25_data += PM25[0, dictionary[index[i]], :]*emis.PM2_5[i]\n",
    "    data = SOA_data + pNO3_data + pNH4_data + pSO4_data + PM25_data\n",
    "\n",
    "    print(\"Accessing the data.\")\n",
    "    if emis_units==\"tons/year\":\n",
    "        fact = 28766.639\n",
    "\n",
    "    TotalPM25 = fact * data\n",
    "    TotalPop = sr['TotalPop'][0:52411]\n",
    "    MortalityRate = sr['MortalityRate'][0:52411]\n",
    "    deathsK = (np.exp(np.log(1.06)/10 * TotalPM25) - 1) * TotalPop * 1.0465819687408728 * MortalityRate / 100000 * 1.025229357798165\n",
    "    deathsL = (np.exp(np.log(1.14)/10 * TotalPM25) - 1) * TotalPop * 1.0465819687408728 * MortalityRate / 100000 * 1.025229357798165\n",
    "    \n",
    "    ret = gpd.GeoDataFrame(pd.DataFrame({'SOA': fact * SOA_data,\n",
    "                                         'pNO3': fact * pNO3_data,\n",
    "                                         'pNH4': fact * pNH4_data,\n",
    "                                         'pSO4': fact * pSO4_data,\n",
    "                                         'PrimaryPM25': fact * PM25_data,\n",
    "                                         'TotalPM25': TotalPM25,\n",
    "                                         'deathsK': deathsK,\n",
    "                                         'deathsL': deathsL}), geometry=p[0:52411])\n",
    "\n",
    "    print(\"Finished (%.0f seconds)               \"%(time.time()-start))\n",
    "    return ret"
   ]
  },
  {
   "cell_type": "code",
   "execution_count": 10,
   "metadata": {},
   "outputs": [
    {
     "name": "stderr",
     "output_type": "stream",
     "text": [
      "C:\\Users\\lbeatty\\AppData\\Local\\Temp\\ipykernel_13816\\4254449695.py:8: FutureWarning: Dropping of nuisance columns in DataFrame reductions (with 'numeric_only=None') is deprecated; in a future version this will raise TypeError.  Select only valid columns before calling the reduction.\n",
      "  print(emis.sum())\n"
     ]
    },
    {
     "name": "stdout",
     "output_type": "stream",
     "text": [
      "Longitude    -87.35682300000001-88.0103-88.0103-88.0103-88....\n",
      "Latitude     33.45866531.006931.006931.006931.006931.006931...\n",
      "NOx                                              773004.858795\n",
      "SOx                                              742944.625857\n",
      "PM2_5                                             96120.625578\n",
      "VOC                                               23036.790886\n",
      "NH3                                               33691.454319\n",
      "dtype: object\n",
      "Making polygons as geometry.\n",
      "Finished joining the dataframes.\n"
     ]
    }
   ],
   "source": [
    "scenario = '26z-short-current-policies'\n",
    "model = 'GenX'\n",
    "\n",
    "years = ['2020']\n",
    "\n",
    "for year in years:\n",
    "    emis = gpd.read_file('InMap/MIP_Emissions/'+scenario+'/'+model+'/emissions_'+year+'.shp')\n",
    "    print(emis.sum())\n",
    "    resultsISRM = run_sr(emis, model=\"isrm\")\n",
    "    resultsISRM.to_file(filename='InMap/MIP_InMap_Output/'+scenario+'/'+model+'/ISRM_result_'+year+'.shp')"
   ]
  },
  {
   "cell_type": "code",
   "execution_count": 7,
   "metadata": {},
   "outputs": [
    {
     "name": "stdout",
     "output_type": "stream",
     "text": [
      "        SOA      pNO3     pNH4     pSO4  PrimaryPM25  TotalPM25  deathsK  \\\n",
      "0  0.000019  0.000052  0.00014  0.00002     0.000142   0.000372      0.0   \n",
      "1  0.000019  0.000052  0.00014  0.00002     0.000142   0.000372      0.0   \n",
      "2  0.000019  0.000052  0.00014  0.00002     0.000142   0.000372      0.0   \n",
      "3  0.000019  0.000052  0.00014  0.00002     0.000142   0.000372      0.0   \n",
      "4  0.000019  0.000052  0.00014  0.00002     0.000142   0.000372      0.0   \n",
      "\n",
      "   deathsL                                           geometry  \n",
      "0      0.0  POLYGON ((-2736000.000 -2088000.000, -2688000....  \n",
      "1      0.0  POLYGON ((-2736000.000 -2040000.000, -2688000....  \n",
      "2      0.0  POLYGON ((-2736000.000 -1992000.000, -2688000....  \n",
      "3      0.0  POLYGON ((-2736000.000 -1944000.000, -2688000....  \n",
      "4      0.0  POLYGON ((-2736000.000 -1896000.000, -2688000....  \n"
     ]
    },
    {
     "data": {
      "image/png": "[encoded data removed]",
      "text/plain": [
       "<Figure size 600x300 with 2 Axes>"
      ]
     },
     "metadata": {},
     "output_type": "display_data"
    }
   ],
   "source": [
    "print(resultsISRM.head())\n",
    "\n",
    "deaths = pd.DataFrame.from_dict({\n",
    "    \"Model\": [\"ISRM\"],\n",
    "    \"Krewski Deaths\": [resultsISRM.deathsK.sum()],\n",
    "    \"LePeule Deaths\": [resultsISRM.deathsL.sum()],\n",
    "})\n",
    "\n",
    "cut = resultsISRM.TotalPM25.quantile(0.985)\n",
    "resultsISRM.plot(column=resultsISRM.TotalPM25, cmap=\"GnBu\", legend=True, \n",
    "                 vmin=0, vmax=cut, figsize=(6, 3))\n",
    "\n",
    "ISRM_dataframe = pd.DataFrame(resultsISRM)"
   ]
  }
 ],
 "metadata": {
  "kernelspec": {
   "display_name": "Python 3",
   "language": "python",
   "name": "python3"
  },
  "language_info": {
   "codemirror_mode": {
    "name": "ipython",
    "version": 3
   },
   "file_extension": ".py",
   "mimetype": "text/x-python",
   "name": "python",
   "nbconvert_exporter": "python",
   "pygments_lexer": "ipython3",
   "version": "3.10.13"
  }
 },
 "nbformat": 4,
 "nbformat_minor": 2
}
