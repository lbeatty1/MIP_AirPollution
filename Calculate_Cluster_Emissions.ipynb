{
 "cells": [
  {
   "cell_type": "markdown",
   "metadata": {},
   "source": [
    "# Code to Calculate Emissions from MIP Outputs\n",
    "\n",
    "### First load in packages"
   ]
  },
  {
   "cell_type": "code",
   "execution_count": 42,
   "metadata": {},
   "outputs": [],
   "source": [
    "globals().clear()\n",
    "\n",
    "import pandas as pd\n",
    "import matplotlib.pyplot as plt\n",
    "import os"
   ]
  },
  {
   "cell_type": "markdown",
   "metadata": {},
   "source": [
    "### Load in Data\n",
    "generator_emissions_rates.csv is outputted by Join_EIA_EPA.py\n",
    "\n",
    "existing_gen_units.csv is an output of PowerGenome"
   ]
  },
  {
   "cell_type": "code",
   "execution_count": 43,
   "metadata": {},
   "outputs": [
    {
     "name": "stderr",
     "output_type": "stream",
     "text": [
      "C:\\Users\\lbeatty\\AppData\\Local\\Temp\\ipykernel_7708\\704354487.py:4: DtypeWarning: Columns (13,17,20,21) have mixed types. Specify dtype option on import or set low_memory=False.\n",
      "  existing_gen_units_2030 = pd.read_csv('MIP_results_comparison/case_settings/26-zone/usensys_inputs_10_weeks/2030/existing_gen_units.csv')\n",
      "C:\\Users\\lbeatty\\AppData\\Local\\Temp\\ipykernel_7708\\704354487.py:5: DtypeWarning: Columns (13,16,17,18,19,20,21) have mixed types. Specify dtype option on import or set low_memory=False.\n",
      "  existing_gen_units_2040 = pd.read_csv('MIP_results_comparison/case_settings/26-zone/usensys_inputs_10_weeks/2040/existing_gen_units.csv')\n"
     ]
    }
   ],
   "source": [
    "os.chdir('C:/Users/lbeatty/Documents/Lauren_MIP_Contribution/')\n",
    "\n",
    "generator_emissions_rates = pd.read_csv('Data/generator_emissions_rates.csv')\n",
    "existing_gen_units_2030 = pd.read_csv('MIP_results_comparison/case_settings/26-zone/usensys_inputs_10_weeks/2030/existing_gen_units.csv')\n",
    "existing_gen_units_2040 = pd.read_csv('MIP_results_comparison/case_settings/26-zone/usensys_inputs_10_weeks/2040/existing_gen_units.csv')\n",
    "existing_gen_units_2050 = pd.read_csv('MIP_results_comparison/case_settings/26-zone/usensys_inputs_10_weeks/2050/existing_gen_units.csv')"
   ]
  },
  {
   "cell_type": "code",
   "execution_count": 40,
   "metadata": {},
   "outputs": [],
   "source": [
    "existing_gen_units_2030['plant_id_eia']=existing_gen_units_2030['plant_id_eia'].astype(int)\n",
    "existing_gen_units_2040['plant_id_eia']=existing_gen_units_2040['plant_id_eia'].astype(int)\n",
    "existing_gen_units_2050['plant_id_eia']=existing_gen_units_2050['plant_id_eia'].astype(int)\n",
    "\n",
    "existing_gen_units_2030['generator_id']=existing_gen_units_2030['generator_id'].astype(str)\n",
    "existing_gen_units_2040['generator_id']=existing_gen_units_2040['generator_id'].astype(str)\n",
    "existing_gen_units_2050['generator_id']=existing_gen_units_2050['generator_id'].astype(str)\n",
    "\n",
    "generator_emissions_rates.rename(columns={'EIA_PLANT_ID': 'plant_id_eia', 'EIA_GENERATOR_ID': 'generator_id'}, inplace=True)\n",
    "generator_emissions_rates = generator_emissions_rates.query('plant_id_eia.notnull()')\n",
    "generator_emissions_rates['plant_id_eia']=generator_emissions_rates['plant_id_eia'].astype(int)\n",
    "generator_emissions_rates['generator_id']=generator_emissions_rates['generator_id'].astype(str)"
   ]
  },
  {
   "cell_type": "code",
   "execution_count": 41,
   "metadata": {},
   "outputs": [],
   "source": [
    "#Merge existing_gen_units with emissions rates\n",
    "existing_gen_units_rates_2030 = pd.merge(existing_gen_units_2030, generator_emissions_rates, on=['plant_id_eia', 'generator_id'], how='left')\n",
    "existing_gen_units_rates_2040 = pd.merge(existing_gen_units_2040, generator_emissions_rates, on=['plant_id_eia', 'generator_id'], how='left')\n",
    "existing_gen_units_rates_2050 = pd.merge(existing_gen_units_2050, generator_emissions_rates, on=['plant_id_eia', 'generator_id'], how='left')"
   ]
  },
  {
   "cell_type": "code",
   "execution_count": 34,
   "metadata": {},
   "outputs": [],
   "source": [
    "#I want capacity-weighted emissions rates so gen variables for rate*gen\n",
    "existing_gen_units_rates_2030['noxrate_capacity'] = existing_gen_units_rates_2030['nox_rate']*existing_gen_units_rates_2030['Capacity']\n",
    "existing_gen_units_rates_2030['so2rate_capacity'] = existing_gen_units_rates_2030['so2_rate']*existing_gen_units_rates_2030['Capacity']\n",
    "existing_gen_units_rates_2030['pm25rate_capacity'] = existing_gen_units_rates_2030['pm25_rate']*existing_gen_units_rates_2030['Capacity']\n",
    "\n",
    "existing_gen_units_rates_2040['noxrate_capacity'] = existing_gen_units_rates_2040['nox_rate']*existing_gen_units_rates_2040['Capacity']\n",
    "existing_gen_units_rates_2040['so2rate_capacity'] = existing_gen_units_rates_2040['so2_rate']*existing_gen_units_rates_2040['Capacity']\n",
    "existing_gen_units_rates_2040['pm25rate_capacity'] = existing_gen_units_rates_2040['pm25_rate']*existing_gen_units_rates_2040['Capacity']\n",
    "\n",
    "existing_gen_units_rates_2050['noxrate_capacity'] = existing_gen_units_rates_2050['nox_rate']*existing_gen_units_rates_2050['Capacity']\n",
    "existing_gen_units_rates_2050['so2rate_capacity'] = existing_gen_units_rates_2050['so2_rate']*existing_gen_units_rates_2050['Capacity']\n",
    "existing_gen_units_rates_2050['pm25rate_capacity'] = existing_gen_units_rates_2050['pm25_rate']*existing_gen_units_rates_2050['Capacity']"
   ]
  },
  {
   "cell_type": "code",
   "execution_count": 35,
   "metadata": {},
   "outputs": [
    {
     "name": "stdout",
     "output_type": "stream",
     "text": [
      "Index(['plant_id_eia', 'prime_mover_code', 'energy_source_code_1',\n",
      "       'generator_id', 'region', 'technology', 'winter_capacity_mw',\n",
      "       'minimum_load_mw', 'operational_status_code', 'heat_rate_mmbtu_mwh',\n",
      "       'planned_operating_year', 'retirement_year', 'capacity_mw',\n",
      "       'energy_source_code_2', 'switch_oil_gas', 'planned_new_capacity_mw',\n",
      "       'time_cold_shutdown_full_load_code', 'planned_retirement_date',\n",
      "       'operating_date', 'original_planned_operating_date', 'boiler_id',\n",
      "       'unit_id_eia', 'unit_id_pudl', 'unit_id_pg', 'retirement_age',\n",
      "       'capacity_mwh', 'operating_year', 'state', 'Fixed_OM_Cost_per_MWhyr',\n",
      "       'Fixed_OM_Cost_per_MWyr', 'Var_OM_Cost_per_MWh', 'cluster',\n",
      "       'utility_id_eia', 'potential_generation_mwh', 'net_generation_mwh',\n",
      "       'capacity_factor', 'Resource', 'Capacity', 'pm25_rate', 'nox_rate',\n",
      "       'so2_rate', 'noxrate_capacity', 'so2rate_capacity',\n",
      "       'pm25rate_capacity'],\n",
      "      dtype='object')\n"
     ]
    }
   ],
   "source": [
    "# Collapse by resource\n",
    "print(existing_gen_units_rates_2030.columns)\n",
    "existing_gen_units_rates_2030 = existing_gen_units_rates_2030.groupby(['Resource', 'technology']).agg({'Capacity': 'sum', 'noxrate_capacity': 'sum', 'so2rate_capacity': 'sum', 'pm25rate_capacity': 'sum'}).reset_index()\n",
    "existing_gen_units_rates_2030['nox_rate'] = existing_gen_units_rates_2030['noxrate_capacity']/existing_gen_units_rates_2030['Capacity']\n",
    "existing_gen_units_rates_2030['so2_rate'] = existing_gen_units_rates_2030['so2rate_capacity']/existing_gen_units_rates_2030['Capacity']\n",
    "existing_gen_units_rates_2030['pm25_rate'] = existing_gen_units_rates_2030['pm25rate_capacity']/existing_gen_units_rates_2030['Capacity']\n",
    "\n",
    "existing_gen_units_rates_2040 = existing_gen_units_rates_2040.groupby(['Resource', 'technology']).agg({'Capacity': 'sum', 'noxrate_capacity': 'sum', 'so2rate_capacity': 'sum', 'pm25rate_capacity': 'sum'}).reset_index()\n",
    "existing_gen_units_rates_2040['nox_rate'] = existing_gen_units_rates_2040['noxrate_capacity']/existing_gen_units_rates_2040['Capacity']\n",
    "existing_gen_units_rates_2040['so2_rate'] = existing_gen_units_rates_2040['so2rate_capacity']/existing_gen_units_rates_2040['Capacity']\n",
    "existing_gen_units_rates_2040['pm25_rate'] = existing_gen_units_rates_2040['pm25rate_capacity']/existing_gen_units_rates_2040['Capacity']\n",
    "\n",
    "existing_gen_units_rates_2050 = existing_gen_units_rates_2050.groupby(['Resource', 'technology']).agg({'Capacity': 'sum', 'noxrate_capacity': 'sum', 'so2rate_capacity': 'sum', 'pm25rate_capacity': 'sum'}).reset_index()\n",
    "existing_gen_units_rates_2050['nox_rate'] = existing_gen_units_rates_2050['noxrate_capacity']/existing_gen_units_rates_2050['Capacity']\n",
    "existing_gen_units_rates_2050['so2_rate'] = existing_gen_units_rates_2050['so2rate_capacity']/existing_gen_units_rates_2050['Capacity']\n",
    "existing_gen_units_rates_2050['pm25_rate'] = existing_gen_units_rates_2050['pm25rate_capacity']/existing_gen_units_rates_2050['Capacity']\n",
    "\n",
    "existing_gen_units_rates_2030['planning_year']=2030\n",
    "existing_gen_units_rates_2040['planning_year']=2040\n",
    "existing_gen_units_rates_2050['planning_year']=2050\n",
    "\n",
    "existing_gen_units_rates = pd.concat([existing_gen_units_rates_2030, existing_gen_units_rates_2040, existing_gen_units_rates_2050])\n"
   ]
  },
  {
   "cell_type": "markdown",
   "metadata": {},
   "source": [
    "### Pick which scenario you want to get results for\n",
    "\n",
    "Type in scenario\n",
    "\n",
    "Read in results data"
   ]
  },
  {
   "cell_type": "code",
   "execution_count": 36,
   "metadata": {},
   "outputs": [],
   "source": [
    "scenario = '26z-thin-debug'\n",
    "\n",
    "switch_generation = pd.read_csv('MIP_results_comparison/'+scenario+\"/SWITCH results summary/generation.csv\")\n",
    "genx_generation = pd.read_csv('MIP_results_comparison/'+scenario+\"/GenX results summary/generation.csv\")\n",
    "temoa_generation = pd.read_csv('MIP_results_comparison/'+scenario+'/TEMOA results summary/generation.csv')\n",
    "usensys_generation = pd.read_csv('MIP_results_comparison/'+scenario+'/USENSYS results summary/generation.csv')\n",
    "\n",
    "switch_generation = switch_generation.rename(columns={'resource_name': 'Resource'})"
   ]
  },
  {
   "cell_type": "code",
   "execution_count": 37,
   "metadata": {},
   "outputs": [],
   "source": [
    "##############\n",
    "## SWITCH ####\n",
    "##############\n",
    "\n",
    "switch_generation = pd.merge(switch_generation, existing_gen_units_rates, on=['planning_year', 'Resource'], how='left')\n",
    "\n",
    "#fill in missings with average by technology\n",
    "overall_technology = \n"
   ]
  },
  {
   "cell_type": "code",
   "execution_count": null,
   "metadata": {},
   "outputs": [],
   "source": []
  }
 ],
 "metadata": {
  "kernelspec": {
   "display_name": "powergenome",
   "language": "python",
   "name": "python3"
  },
  "language_info": {
   "codemirror_mode": {
    "name": "ipython",
    "version": 3
   },
   "file_extension": ".py",
   "mimetype": "text/x-python",
   "name": "python",
   "nbconvert_exporter": "python",
   "pygments_lexer": "ipython3",
   "version": "3.10.13"
  }
 },
 "nbformat": 4,
 "nbformat_minor": 2
}
